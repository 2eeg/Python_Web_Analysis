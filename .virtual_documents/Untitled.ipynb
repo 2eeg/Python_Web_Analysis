def add(n1,n2):
    return n1 + n2


print('더하기 함수 결과')
add(20,30)












