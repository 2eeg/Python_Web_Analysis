{
 "cells": [
  {
   "cell_type": "markdown",
   "id": "eb0bfa44",
   "metadata": {},
   "source": [
    "## 1. 뉴스제목 가져오기\n",
    "* user-agent 요청헤더를 반드시 설정해야 한다."
   ]
  },
  {
   "cell_type": "code",
   "execution_count": 1,
   "id": "f0d27781",
   "metadata": {},
   "outputs": [
    {
     "name": "stdout",
     "output_type": "stream",
     "text": [
      "Name: requests\n",
      "Version: 2.28.1\n",
      "Summary: Python HTTP for Humans.\n",
      "Home-page: https://requests.readthedocs.io\n",
      "Author: Kenneth Reitz\n",
      "Author-email: me@kennethreitz.org\n",
      "License: Apache 2.0\n",
      "Location: c:\\users\\vega2\\anaconda3\\lib\\site-packages\n",
      "Requires: certifi, charset-normalizer, idna, urllib3\n",
      "Required-by: anaconda-client, anaconda-project, conda, conda-build, conda-repo-cli, conda_package_streaming, cookiecutter, datashader, huggingface-hub, jupyterlab_server, panel, pooch, PyGithub, requests-file, requests-toolbelt, Sphinx, tldextract, transformers, webdriver-manager\n"
     ]
    }
   ],
   "source": [
    "!pip show requests"
   ]
  },
  {
   "cell_type": "code",
   "execution_count": 2,
   "id": "f7798ea8",
   "metadata": {},
   "outputs": [
    {
     "name": "stdout",
     "output_type": "stream",
     "text": [
      "Name: beautifulsoup4\n",
      "Version: 4.11.1\n",
      "Summary: Screen-scraping library\n",
      "Home-page: https://www.crummy.com/software/BeautifulSoup/bs4/\n",
      "Author: Leonard Richardson\n",
      "Author-email: leonardr@segfault.org\n",
      "License: MIT\n",
      "Location: c:\\users\\vega2\\anaconda3\\lib\\site-packages\n",
      "Requires: soupsieve\n",
      "Required-by: conda-build, nbconvert\n"
     ]
    }
   ],
   "source": [
    "!pip show beautifulsoup4"
   ]
  },
  {
   "cell_type": "code",
   "execution_count": 15,
   "id": "bf80a429",
   "metadata": {},
   "outputs": [],
   "source": [
    "import requests\n",
    "import bs4\n",
    "from bs4 import BeautifulSoup"
   ]
  },
  {
   "cell_type": "code",
   "execution_count": 16,
   "id": "9788d6ac",
   "metadata": {},
   "outputs": [
    {
     "name": "stdout",
     "output_type": "stream",
     "text": [
      "request ver 2.28.1\n",
      "beautifulsoup 4.11.1\n"
     ]
    }
   ],
   "source": [
    "print(f'request ver {requests.__version__}' )\n",
    "print('beautifulsoup {}'.format(bs4.__version__))"
   ]
  },
  {
   "cell_type": "code",
   "execution_count": 32,
   "id": "94c12fd6",
   "metadata": {},
   "outputs": [
    {
     "name": "stdout",
     "output_type": "stream",
     "text": [
      "https://news.naver.com/section/105\n",
      "200\n",
      "88\n",
      "네이버클라우드·인텔, 국내 스타트업과 AI 공동 연구 https://n.news.naver.com/mnews/article/056/0011699558\n",
      " https://n.news.naver.com/mnews/article/comment/056/0011699558\n",
      "주춤하는 전기차 배터리 산업에 커지는 ‘에너지저장장치’ 시장 https://n.news.naver.com/mnews/article/028/0002684790\n",
      " https://n.news.naver.com/mnews/article/comment/028/0002684790\n",
      "아랍어·러시아어도 통역 제공…삼성, 갤럭시AI 지원 언어 확대 https://n.news.naver.com/mnews/article/015/0004971275\n",
      " https://n.news.naver.com/mnews/article/comment/015/0004971275\n",
      "SKT, ‘T화면공유’ 도입…고객 편의성·신뢰도 ↑ https://n.news.naver.com/mnews/article/016/0002293313\n",
      " https://n.news.naver.com/mnews/article/comment/016/0002293313\n",
      "과기정통부, 지역 정보보호 지원사업 개편…선별적 지원 https://n.news.naver.com/mnews/article/001/0014625539\n",
      " https://n.news.naver.com/mnews/article/comment/001/0014625539\n",
      "카카오헬스케어, ‘구글 클라우드 넥스트’ 초청…협력 논의 https://n.news.naver.com/mnews/article/003/0012485664\n",
      " https://n.news.naver.com/mnews/article/comment/003/0012485664\n",
      "\"1년 뒤 전하는 지금의 낭만\"…감성 돋는 '느린우체통' 눈길 https://n.news.naver.com/mnews/article/003/0012486159\n",
      " https://n.news.naver.com/mnews/article/comment/003/0012486159\n",
      "AI는 ‘효율 싸움'… 구글·인텔, 전성비 높인 반도체 공세 https://n.news.naver.com/mnews/article/011/0004325966\n",
      " https://n.news.naver.com/mnews/article/comment/011/0004325966\n",
      "22대 국회에 입성한 과학기술·IT 전문가 9명 https://n.news.naver.com/mnews/article/092/0002327621\n",
      " https://n.news.naver.com/mnews/article/comment/092/0002327621\n",
      "‘단통법 폐지’ 물 건너가나… 전환지원금 정책 존폐 위기 https://n.news.naver.com/mnews/article/366/0000984754\n",
      " https://n.news.naver.com/mnews/article/comment/366/0000984754\n",
      "\"점보 시리즈 잘나가네?\"…GS25, 비빔면에 김 넣은 '틈새비김면' 출시 https://n.news.naver.com/mnews/article/092/0002327619\n",
      " https://n.news.naver.com/mnews/article/comment/092/0002327619\n",
      "뇌 속 청소부 젊게 만드는 방법 찾았다… \"치매 치료 가능성 확인\" https://n.news.naver.com/mnews/article/366/0000984734\n",
      " https://n.news.naver.com/mnews/article/comment/366/0000984734\n",
      "의대 증원 정책 동력 잃나?...“정부 후퇴 가능성 낮아” https://n.news.naver.com/mnews/article/366/0000984727\n",
      " https://n.news.naver.com/mnews/article/comment/366/0000984727\n",
      "[단독] 국가우주정책연구센터 4년 만에 문 닫는다…“우주정책 공백 불가피” https://n.news.naver.com/mnews/article/366/0000984722\n",
      " https://n.news.naver.com/mnews/article/comment/366/0000984722\n",
      "대만 팹, 지진 피해 정상화...삼성·SK하이닉스 반사익 '제한적' https://n.news.naver.com/mnews/article/092/0002327614\n",
      " https://n.news.naver.com/mnews/article/comment/092/0002327614\n",
      "하이브리드 소듐 전지 개발…\"수 초 만에 급속 충전\" https://n.news.naver.com/mnews/article/584/0000026661\n",
      " https://n.news.naver.com/mnews/article/comment/584/0000026661\n",
      "알츠하이머 발병 70% 낮추는 유전자 변이 발견 https://n.news.naver.com/mnews/article/023/0003827741\n",
      " https://n.news.naver.com/mnews/article/comment/023/0003827741\n",
      "총선 압승한 민주당… 통신 시장, 무엇이 달라질까 https://n.news.naver.com/mnews/article/417/0000995727\n",
      " https://n.news.naver.com/mnews/article/comment/417/0000995727\n",
      "'여당 참패' 마음 급해진 정부…내심 기대 의료계 '사분오열' 난감 https://n.news.naver.com/mnews/article/421/0007475113\n",
      " https://n.news.naver.com/mnews/article/comment/421/0007475113\n",
      "尹 \"국민 뜻 겸허히 받들어 국정쇄신\"...대통령실 참모들 사의표명 https://n.news.naver.com/mnews/article/092/0002327612\n",
      " https://n.news.naver.com/mnews/article/comment/092/0002327612\n",
      "네이버 \"인텔 '가우디2' 기반 고성능 LLM 모델 개발\" https://n.news.naver.com/mnews/article/092/0002327611\n",
      " https://n.news.naver.com/mnews/article/comment/092/0002327611\n",
      "인텔, AI 반도체 '가우디3' 공개…엔비디아 추격 '속도' https://n.news.naver.com/mnews/article/629/0000280184\n",
      " https://n.news.naver.com/mnews/article/comment/629/0000280184\n",
      "HLB, 간암신약 허가 대비 “美 NCCN 가이드라인 등재 신청 완료” https://n.news.naver.com/mnews/article/018/0005712097\n",
      " https://n.news.naver.com/mnews/article/comment/018/0005712097\n",
      "\"여행 가방 2개 크기 우주 서식지, 우주 가면 20m³로 커진다\" [우주로 간다] https://n.news.naver.com/mnews/article/092/0002327609\n",
      " https://n.news.naver.com/mnews/article/comment/092/0002327609\n",
      "셀트리온 \"자가면역 치료제 짐펜트라, 美제형특허 등록\" https://n.news.naver.com/mnews/article/029/0002866839\n",
      " https://n.news.naver.com/mnews/article/comment/029/0002866839\n",
      "구글, AWS 40억불 투자에도 엔트로픽과 '밀월' 문제 없다 https://n.news.naver.com/mnews/article/011/0004326264\n",
      " https://n.news.naver.com/mnews/article/comment/011/0004326264\n",
      "엘앤에프, 유럽 고객사에 9.2조원 규모 양극재 공급한다 https://n.news.naver.com/mnews/article/092/0002327605\n",
      " https://n.news.naver.com/mnews/article/comment/092/0002327605\n",
      "[1분건강] 피지컬100 보고 운동 시작했다면 꼭 읽으세요 https://n.news.naver.com/mnews/article/092/0002327601\n",
      " https://n.news.naver.com/mnews/article/comment/092/0002327601\n",
      "신의 입자 '힉스' 예견한 영국 물리학자 피터 힉스 별세 https://n.news.naver.com/mnews/article/584/0000026659\n",
      " https://n.news.naver.com/mnews/article/comment/584/0000026659\n",
      "리튬보다 500배 많은 소듐으로 배터리 만든다… 출력 성능 개선 성공 https://n.news.naver.com/mnews/article/366/0000984697\n",
      " https://n.news.naver.com/mnews/article/comment/366/0000984697\n",
      "마이너스의 손? 제넥신, 투자마다 손실...1천억 넘어 https://n.news.naver.com/mnews/article/018/0005712013\n",
      " https://n.news.naver.com/mnews/article/comment/018/0005712013\n",
      "원텍, 브라질·중국으로 무대 확장…올해 사상최대 매출 청신호 https://n.news.naver.com/mnews/article/018/0005712012\n",
      " https://n.news.naver.com/mnews/article/comment/018/0005712012\n",
      "[4·10총선] '尹 복심' 김은혜, 지역구 옮겨 재선 성공…\"낮게 임하겠다\" https://n.news.naver.com/mnews/article/138/0002170948\n",
      " https://n.news.naver.com/mnews/article/comment/138/0002170948\n",
      "스마트폰 접기 경쟁 뜨겁다…中 50만원대 폴더블폰까지 등장 https://n.news.naver.com/mnews/article/003/0012485725\n",
      " https://n.news.naver.com/mnews/article/comment/003/0012485725\n",
      "홍콩 비트코인 ETF 승인 가능성↑...국내 시장도 기대↑ https://n.news.naver.com/mnews/article/092/0002327591\n",
      " https://n.news.naver.com/mnews/article/comment/092/0002327591\n",
      "여권내 '가상자산' 입법 실력자 윤창현 의원 낙선… 22대 국회 '가상자산법' 여야 협치, 순항할까 https://n.news.naver.com/mnews/article/138/0002170945\n",
      " https://n.news.naver.com/mnews/article/comment/138/0002170945\n",
      "엔비디아에 견제구? 네이버, 인텔과 AI칩 생태계 구축 나선다 https://n.news.naver.com/mnews/article/009/0005286518\n",
      " https://n.news.naver.com/mnews/article/comment/009/0005286518\n",
      "'총선 끝' 우주항공청장 등 과학기술 분야 대거 인사 예고 https://n.news.naver.com/mnews/article/277/0005404267\n",
      " https://n.news.naver.com/mnews/article/comment/277/0005404267\n",
      "애플, 인도서 아이폰 생산 2배로 확대…'탈중국' 가속화 https://n.news.naver.com/mnews/article/293/0000053413\n",
      " https://n.news.naver.com/mnews/article/comment/293/0000053413\n",
      "K-배터리, 非중국 점유율 45.5%…SK온만 역성장 https://n.news.naver.com/mnews/article/092/0002327579\n",
      " https://n.news.naver.com/mnews/article/comment/092/0002327579\n",
      "SK하이닉스 \"美 인디애나팹, AI 메모리 리더십 강화하는데 기여\" https://n.news.naver.com/mnews/article/092/0002327578\n",
      " https://n.news.naver.com/mnews/article/comment/092/0002327578\n",
      "한미반도체, 신규 고객사로 美 마이크론 확보…추가 수주 기대감↑ [소부장반차장] https://n.news.naver.com/mnews/article/138/0002170942\n",
      " https://n.news.naver.com/mnews/article/comment/138/0002170942\n",
      "셀트리온 ‘짐펜트라’ 美 제형 특허 등록 완료 https://n.news.naver.com/mnews/article/016/0002293392\n",
      " https://n.news.naver.com/mnews/article/comment/016/0002293392\n",
      "인텔이 찜한 네이버클라우드, '가우디' 기반 AI칩 생태계 조성 앞장 https://n.news.naver.com/mnews/article/092/0002327575\n",
      " https://n.news.naver.com/mnews/article/comment/092/0002327575\n"
     ]
    }
   ],
   "source": [
    "# IT/과학 뉴스\n",
    "req_param = {\n",
    "    'sid': 105\n",
    "}\n",
    "url = 'https://news.naver.com/section/{sid}'.format(**req_param)\n",
    "print(url)\n",
    "# 요청 헤더 설정 : 브라우저 정보\n",
    "req_header = {\n",
    "    'user-agent': 'Mozilla/5.0 (Windows NT 10.0; Win64; x64) AppleWebKit/537.36 (KHTML, like Gecko) Chrome/104.0.0.0 Safari/537.36'\n",
    "}\n",
    "res = requests.get(url, headers=req_header)\n",
    "print(res.status_code)\n",
    "if res.ok:\n",
    "    html = res.text #소스보기 텍스트\n",
    "    soup = BeautifulSoup(html, 'html.parser')\n",
    "    '''\n",
    "        <div class=\"sa_text\"> div.sa_text\n",
    "          <a href=\"https://n.news.naver.com/mnews/article\"> div.sa_text a[href*='n.news.naver.com/mnews/article']\n",
    "    '''\n",
    "    print(len(soup.select(\"div.sa_text a[href*='n.news.naver.com/mnews/article']\")))\n",
    "    atag_list = soup.select(\"div.sa_text a[href*='n.news.naver.com/mnews/article']\")\n",
    "    for atag in atag_list:\n",
    "        #print(atag)\n",
    "        #print('-----')\n",
    "        title = atag.text.strip()\n",
    "        link = atag['href']\n",
    "        print(title, link)"
   ]
  },
  {
   "cell_type": "code",
   "execution_count": 33,
   "id": "4461b9cc",
   "metadata": {},
   "outputs": [],
   "source": [
    "section_dict = {100:'정치',101:'경제',102:'사회',103:'생활/문화',104:'세계',105:'IT/과학'}"
   ]
  },
  {
   "cell_type": "code",
   "execution_count": 38,
   "id": "9f2e4ef8",
   "metadata": {},
   "outputs": [],
   "source": [
    "import requests\n",
    "from bs4 import BeautifulSoup\n",
    "\n",
    "def print_news(sid, section):    \n",
    "    # 요청 Parameter\n",
    "    req_param = {\n",
    "    'sid': sid\n",
    "    }\n",
    "    url = 'https://news.naver.com/section/{sid}'.format(**req_param)\n",
    "    \n",
    "    print(f'======> {url} {section} 뉴스 <======')\n",
    "    \n",
    "    # 요청 헤더 설정 : 브라우저 정보\n",
    "    req_header = {\n",
    "        'user-agent': 'Mozilla/5.0 (Windows NT 10.0; Win64; x64) AppleWebKit/537.36 (KHTML, like Gecko) Chrome/104.0.0.0 Safari/537.36'\n",
    "    }\n",
    "    res = requests.get(url, headers=req_header)\n",
    "    print(res.status_code)\n",
    "    print(res.ok)\n",
    "    if res.ok:\n",
    "        html = res.text #소스보기 텍스트 추출\n",
    "        soup = BeautifulSoup(html, 'html.parser')\n",
    "        print(len(soup.select(\"div.sa_text a[href*='n.news.naver.com/mnews/article']\")))\n",
    "        a_tags = soup.select(\"div.sa_text a[href*='n.news.naver.com/mnews/article']\")\n",
    "        for a_tag in a_tags:\n",
    "            #print(a_tag)\n",
    "            title = a_tag.text.strip()\n",
    "            link = a_tag['href']\n",
    "            print(title, link)"
   ]
  },
  {
   "cell_type": "code",
   "execution_count": 39,
   "id": "858952c6",
   "metadata": {},
   "outputs": [
    {
     "name": "stdout",
     "output_type": "stream",
     "text": [
      "======> https://news.naver.com/section/103 생활/문화 뉴스 <======\n",
      "200\n",
      "True\n",
      "86\n",
      "신한카드, 크루즈 예약시 최대 150달러 혜택 https://n.news.naver.com/mnews/article/030/0003197011\n",
      " https://n.news.naver.com/mnews/article/comment/030/0003197011\n",
      "여수 거문도 근대역사문화공간, 국가등록문화유산 된다 https://n.news.naver.com/mnews/article/277/0005404290\n",
      " https://n.news.naver.com/mnews/article/comment/277/0005404290\n",
      "벤츠코리아, 부분변경 마이바흐 GLS 국내 출시… 2억7900만원부터 https://n.news.naver.com/mnews/article/366/0000984683\n",
      " https://n.news.naver.com/mnews/article/comment/366/0000984683\n",
      "12일 낮 최고 25도 따뜻…전국 건조·제주 낮에 비 [내일날씨] https://n.news.naver.com/mnews/article/421/0007474528\n",
      " https://n.news.naver.com/mnews/article/comment/421/0007474528\n",
      "\"이모·삼촌 판다보러 오세요\"…하나투어, 청두 팬키지 출시 https://n.news.naver.com/mnews/article/421/0007474669\n",
      " https://n.news.naver.com/mnews/article/comment/421/0007474669\n",
      "제8기 국가도서관委 출범…위원장에 윤희윤 대구대 명예교수 https://n.news.naver.com/mnews/article/018/0005711929\n",
      " https://n.news.naver.com/mnews/article/comment/018/0005711929\n",
      "\"멈춰\" 원격으로 차를 세운다?…'온스타' 국내 서비스 개시 [영상] https://n.news.naver.com/mnews/article/015/0004971312\n",
      " https://n.news.naver.com/mnews/article/comment/015/0004971312\n",
      "잠꼬대 심해지고 냄새 맡기 어려워졌다면··· 혹시 ‘이 병’일까? https://n.news.naver.com/mnews/article/032/0003290021\n",
      " https://n.news.naver.com/mnews/article/comment/032/0003290021\n",
      "[날씨] 흐린 하늘빛…전국 곳곳서 약한 비 https://n.news.naver.com/mnews/article/055/0001146307\n",
      " https://n.news.naver.com/mnews/article/comment/055/0001146307\n",
      "[날씨] 전국 흐리고 곳곳 비·소나기…대기 건조 계속 https://n.news.naver.com/mnews/article/422/0000654597\n",
      " https://n.news.naver.com/mnews/article/comment/422/0000654597\n",
      "\"주말 반팔 꺼내세요\"…낮 최고 27도 https://n.news.naver.com/mnews/article/215/0001157036\n",
      " https://n.news.naver.com/mnews/article/comment/215/0001157036\n",
      "[오후날씨 꿀팁] 오후까지 수도권·강원 비…호남·제주에 한때 소나기 https://n.news.naver.com/mnews/article/056/0011699698\n",
      " https://n.news.naver.com/mnews/article/comment/056/0011699698\n",
      "푸바오 적응 순조..재회 앞서 스촨성 판다여행 떴다[함영훈의 멋·맛·쉼] https://n.news.naver.com/mnews/article/016/0002293575\n",
      " https://n.news.naver.com/mnews/article/comment/016/0002293575\n",
      "희비 엇갈린 재계 출신 총선 후보들 https://n.news.naver.com/mnews/article/032/0003290008\n",
      " https://n.news.naver.com/mnews/article/comment/032/0003290008\n",
      "한국서 쇳물 녹이던 네팔 노동자…고향에서 제2의 인생 https://n.news.naver.com/mnews/article/005/0001687903\n",
      " https://n.news.naver.com/mnews/article/comment/005/0001687903\n",
      "실명 원인 1위 '당뇨망막병증'..주기적 검사 필수 https://n.news.naver.com/mnews/article/014/0005169905\n",
      " https://n.news.naver.com/mnews/article/comment/014/0005169905\n",
      "[내일 날씨] 구름 많고 흐려요…낮에는 '봄날씨' https://n.news.naver.com/mnews/article/374/0000378744\n",
      " https://n.news.naver.com/mnews/article/comment/374/0000378744\n",
      "주말까지 초여름 날씨, 낮 기온 최고 25도···일교차 15도 https://n.news.naver.com/mnews/article/032/0003290002\n",
      " https://n.news.naver.com/mnews/article/comment/032/0003290002\n",
      "총선 참패에 '의대 증원' 기로…타협이냐 강행이냐 https://n.news.naver.com/mnews/article/374/0000378739\n",
      " https://n.news.naver.com/mnews/article/comment/374/0000378739\n",
      "주말 '초여름 더위'…서울 등 내륙 일요일 27도까지 올라 https://n.news.naver.com/mnews/article/001/0014625478\n",
      " https://n.news.naver.com/mnews/article/comment/001/0014625478\n",
      "케이카 “벤츠 E클래스 신차 출고 지연에…중고 BMW 5시리즈 불티” https://n.news.naver.com/mnews/article/009/0005286609\n",
      " https://n.news.naver.com/mnews/article/comment/009/0005286609\n",
      "尹 \"국민 뜻 받들어 인적쇄신\"...의대증원 2천명에도 영향? https://n.news.naver.com/mnews/article/296/0000076625\n",
      " https://n.news.naver.com/mnews/article/comment/296/0000076625\n",
      "내년부터 아파트 '제로에너지' 인증…가구당 공사비 130만원 '훌쩍' https://n.news.naver.com/mnews/article/374/0000378727\n",
      " https://n.news.naver.com/mnews/article/comment/374/0000378727\n",
      "“천혜의 환경과 느림의 미학...캘리포니아 ‘푸룬’ 비법이죠” https://n.news.naver.com/mnews/article/016/0002293529\n",
      " https://n.news.naver.com/mnews/article/comment/016/0002293529\n",
      "“겉절이보다 잘 익은 김치” 사소한 습관이 만드는 면역력 https://n.news.naver.com/mnews/article/016/0002293528\n",
      " https://n.news.naver.com/mnews/article/comment/016/0002293528\n",
      "[날씨톡톡] 전국 흐리고 오후까지 중부 곳곳 비, 호남·제주 소나기 https://n.news.naver.com/mnews/article/422/0000654579\n",
      " https://n.news.naver.com/mnews/article/comment/422/0000654579\n",
      "봄 웰빙식 대표주자, 쑥밥 https://n.news.naver.com/mnews/article/016/0002293527\n",
      " https://n.news.naver.com/mnews/article/comment/016/0002293527\n",
      "\"정치인들도 성형 많이 하나?\"...외모가 정치에 어떤 영향을? https://n.news.naver.com/mnews/article/296/0000076624\n",
      " https://n.news.naver.com/mnews/article/comment/296/0000076624\n",
      "“봄 되면 이 음료만 기다려요”…누적 2000만잔 팔린 스벅 메뉴는? https://n.news.naver.com/mnews/article/009/0005286586\n",
      " https://n.news.naver.com/mnews/article/comment/009/0005286586\n",
      "요즘 젊은 암환자 많이 늘어난 이유는? \"신체 노화 더 빨라진 탓\" https://n.news.naver.com/mnews/article/023/0003827739\n",
      " https://n.news.naver.com/mnews/article/comment/023/0003827739\n",
      "‘수면무호흡증’ 방치시 치명적 합병증 유발 https://n.news.naver.com/mnews/article/014/0005169877\n",
      " https://n.news.naver.com/mnews/article/comment/014/0005169877\n",
      "유이, 꿀피부 위해 ‘이 방법’으로 세안한다… 강조한 두 가지는? https://n.news.naver.com/mnews/article/346/0000073222\n",
      " https://n.news.naver.com/mnews/article/comment/346/0000073222\n",
      "\"오토바이 '이것' 눈 관통해\"...19세男 실명 피한 기적적 사건, 뭐길래? https://n.news.naver.com/mnews/article/296/0000076622\n",
      " https://n.news.naver.com/mnews/article/comment/296/0000076622\n",
      "잘 자다가도 갑자기 숨 멈추는 ‘수면무호흡증’ 치료법은? https://n.news.naver.com/mnews/article/020/0003558472\n",
      " https://n.news.naver.com/mnews/article/comment/020/0003558472\n",
      "유튜버 도쿄박사장 “日거주에 관심 많아져…한일 잇는 통로 되고 싶다”[일본의 K유튜버] https://n.news.naver.com/mnews/article/020/0003558470\n",
      " https://n.news.naver.com/mnews/article/comment/020/0003558470\n",
      "5년 생존율 3%인 최악 뇌종양 '교모세포종' 악성화 억제 유전자 밝혀졌다 https://n.news.naver.com/mnews/article/469/0000795426\n",
      " https://n.news.naver.com/mnews/article/comment/469/0000795426\n",
      "피지컬 100, 화제된 '무동력 트레드밀 달리기'… '이곳' 다치기 쉬워 주의 https://n.news.naver.com/mnews/article/346/0000073220\n",
      " https://n.news.naver.com/mnews/article/comment/346/0000073220\n",
      "아우디 Q4 e-트론, 3월 국내서 396대 팔려…독일 전기차 판매 1위 https://n.news.naver.com/mnews/article/009/0005286561\n",
      " https://n.news.naver.com/mnews/article/comment/009/0005286561\n",
      "비만·당뇨 관리에…\"아침보다 저녁에 운동하는 게 더 효과적\" https://n.news.naver.com/mnews/article/023/0003827732\n",
      " https://n.news.naver.com/mnews/article/comment/023/0003827732\n",
      "“그돈이면 배 터지게 회·소고기 먹겠네”…반값·연중 최저가 할인하는 곳은 https://n.news.naver.com/mnews/article/009/0005286557\n",
      " https://n.news.naver.com/mnews/article/comment/009/0005286557\n",
      "매출 하락에 임상시험 지연까지… '의대 정원 파장'에 속타는 제약계 https://n.news.naver.com/mnews/article/346/0000073218\n",
      " https://n.news.naver.com/mnews/article/comment/346/0000073218\n",
      "마른 몸으로 달려야만 하는 여성들…신간 '여자치고 잘 뛰네' https://n.news.naver.com/mnews/article/001/0014625137\n",
      " https://n.news.naver.com/mnews/article/comment/001/0014625137\n",
      "벤츠·BMW보다 잘나간 아우디 전기차…지난달 독일 전기차 1위 https://n.news.naver.com/mnews/article/092/0002327598\n",
      " https://n.news.naver.com/mnews/article/comment/092/0002327598\n"
     ]
    }
   ],
   "source": [
    "print_news(103,section_dict[103])"
   ]
  },
  {
   "cell_type": "markdown",
   "id": "323196dc",
   "metadata": {},
   "source": [
    "### 2. Image 다운로드\n",
    "* referer 요청 헤더를 반드시 설정해야 한다."
   ]
  },
  {
   "cell_type": "code",
   "execution_count": 41,
   "id": "c72d6cb1",
   "metadata": {},
   "outputs": [
    {
     "name": "stdout",
     "output_type": "stream",
     "text": [
      "20220804112251_d97bd1e1b38f0cd022e4e3639d2926b3_IMAG01_1.jpg\n",
      " writing to 20220804112251_d97bd1e1b38f0cd022e4e3639d2926b3_IMAG01_1.jpg(299,319 bytes)\n",
      "20220804112251_d97bd1e1b38f0cd022e4e3639d2926b3_IMAG01_2.jpg\n",
      " writing to 20220804112251_d97bd1e1b38f0cd022e4e3639d2926b3_IMAG01_2.jpg(163,333 bytes)\n",
      "20220804112251_d97bd1e1b38f0cd022e4e3639d2926b3_IMAG01_3.jpg\n",
      " writing to 20220804112251_d97bd1e1b38f0cd022e4e3639d2926b3_IMAG01_3.jpg(182,530 bytes)\n"
     ]
    }
   ],
   "source": [
    "import requests\n",
    "import os\n",
    "\n",
    "req_header = {\n",
    "    'referer':'https://comic.naver.com/webtoon/detail?titleId=798173&no=5&amp;weekday=thu'\n",
    "}\n",
    "img_urls = [\n",
    "    'https://image-comic.pstatic.net/webtoon/798173/5/20220804112251_d97bd1e1b38f0cd022e4e3639d2926b3_IMAG01_1.jpg',\n",
    "    'https://image-comic.pstatic.net/webtoon/798173/5/20220804112251_d97bd1e1b38f0cd022e4e3639d2926b3_IMAG01_2.jpg',\n",
    "    'https://image-comic.pstatic.net/webtoon/798173/5/20220804112251_d97bd1e1b38f0cd022e4e3639d2926b3_IMAG01_3.jpg'\n",
    "]\n",
    "for img_url in img_urls:\n",
    "    res = requests.get(img_url, headers=req_header)\n",
    "    if res.ok:\n",
    "        img_data = res.content\n",
    "        file_name = os.path.basename(img_url)\n",
    "        print(file_name)\n",
    "        # binary data를 file로 저장하기\n",
    "        with open(file_name, 'wb') as file:\n",
    "            print(f' writing to {file_name}({len(img_data):,} bytes)')\n",
    "            file.write(img_data)\n",
    "    else:\n",
    "        print('Error Code ', res.status_code) "
   ]
  },
  {
   "cell_type": "markdown",
   "id": "e8b00a04",
   "metadata": {},
   "source": [
    "#### 현재 요청된 페이지의 image 모두 다운로드 해보기"
   ]
  },
  {
   "cell_type": "code",
   "execution_count": 43,
   "id": "b30f7bf5",
   "metadata": {},
   "outputs": [
    {
     "name": "stdout",
     "output_type": "stream",
     "text": [
      "18\n"
     ]
    }
   ],
   "source": [
    "import requests\n",
    "import os\n",
    "\n",
    "url = 'https://comic.naver.com/webtoon/detail?titleId=817945&no=37&week=mon'\n",
    "req_header = {\n",
    "    'referer': url\n",
    "}\n",
    "res = requests.get(url)\n",
    "if res.ok: #200\n",
    "    soup = BeautifulSoup(res.text, 'html.parser')\n",
    "    print(len(soup.select(\"img[src*='IMAG01']\")))\n",
    "    img_tags = soup.select(\"img[src*='IMAG01']\")\n",
    "    \n",
    "    img_url_list = []\n",
    "    for img_tag in img_tags:\n",
    "        img_url_list.append(img_tag['src'])\n",
    "    #print(img_url_list)    \n",
    "    \n",
    "    # img 디렉토리가 없다면 생성\n",
    "    if not os.path.isdir('img'):\n",
    "        os.mkdir('img')\n",
    "        \n",
    "    for img_url in img_url_list:\n",
    "        res = requests.get(img_url, headers=req_header)\n",
    "        if res.ok:\n",
    "            #binary data \n",
    "            img_data = res.content\n",
    "            file_name = os.path.basename(img_url)\n",
    "            # binary data를 file로 저장하기\n",
    "            dir_name = os.path.join('img',file_name)\n",
    "            with open(dir_name, 'wb') as file:\n",
    "                #print(f' writing to {file_name}({len(img_data):,} bytes)')\n",
    "                file.write(img_data)\n",
    "        else:\n",
    "            print(res.status_code)   \n",
    "else:\n",
    "    print(res.status_code)"
   ]
  },
  {
   "cell_type": "markdown",
   "id": "2ac9f5f9",
   "metadata": {},
   "source": [
    "### 파일 업로드 하기\n",
    "* http://httpbin.org/post 업로드 요청을 할 수 있는 url"
   ]
  },
  {
   "cell_type": "code",
   "execution_count": 49,
   "id": "04da4790",
   "metadata": {},
   "outputs": [],
   "source": [
    "import requests\n",
    "\n",
    "upload_files = {\n",
    "  'img1': open('img/f1.jpg','rb'),\n",
    "  'img2': open('img/f2.jpg','rb')  \n",
    "}\n",
    "url = 'http://httpbin.org/post'\n",
    "res = requests.post(url, files=upload_files)\n",
    "#print(res.status_code)\n",
    "#print(res.json())\n",
    "#print(res.json()['files']['img1'])"
   ]
  },
  {
   "cell_type": "markdown",
   "id": "7ad65f12",
   "metadata": {},
   "source": [
    "### 단축 URL 생성하기"
   ]
  },
  {
   "cell_type": "code",
   "execution_count": 65,
   "id": "abbb0ebf",
   "metadata": {},
   "outputs": [
    {
     "name": "stdout",
     "output_type": "stream",
     "text": [
      "{\"result\":{\"url\":\"https://me2.do/FzQgoRUF\",\"hash\":\"FzQgoRUF\",\"orgUrl\":\"https://drive.google.com/drive/u/0/folders/1V_DK7Px5w_niEKLlWhDr_GPgIYHG3Du-\"},\"message\":\"ok\",\"code\":\"200\"}\n"
     ]
    }
   ],
   "source": [
    "import os\n",
    "import sys\n",
    "import urllib.request\n",
    "\n",
    "client_id = \"VUxpFYqcSowtohtzljMr\" # 개발자센터에서 발급받은 Client ID 값\n",
    "client_secret = \"y_J3QIAtu2\" # 개발자센터에서 발급받은 Client Secret 값\n",
    "encText = urllib.parse.quote(\"https://drive.google.com/drive/u/0/folders/1V_DK7Px5w_niEKLlWhDr_GPgIYHG3Du-\")\n",
    "data = \"url=\" + encText\n",
    "url = \"https://openapi.naver.com/v1/util/shorturl\"\n",
    "\n",
    "request = urllib.request.Request(url)\n",
    "request.add_header(\"X-Naver-Client-Id\",client_id)\n",
    "request.add_header(\"X-Naver-Client-Secret\",client_secret)\n",
    "\n",
    "response = urllib.request.urlopen(request, data=data.encode(\"utf-8\"))\n",
    "rescode = response.getcode()\n",
    "if(rescode==200):\n",
    "    response_body = response.read()\n",
    "    print(response_body.decode('utf-8'))\n",
    "else:\n",
    "    print(\"Error Code:\" + rescode)\n"
   ]
  },
  {
   "cell_type": "markdown",
   "id": "b7d984a6",
   "metadata": {},
   "source": [
    "* requests를 사용한 코드로 변경하기\n",
    "* [requests docs](https://requests.readthedocs.io/en/latest/user/quickstart/)"
   ]
  },
  {
   "cell_type": "code",
   "execution_count": 66,
   "id": "727b427b",
   "metadata": {
    "scrolled": true
   },
   "outputs": [
    {
     "name": "stdout",
     "output_type": "stream",
     "text": [
      "200\n",
      "<class 'str'>\n",
      "<class 'dict'>\n",
      "{'result': {'url': 'https://me2.do/FzQgoRUF', 'hash': 'FzQgoRUF', 'orgUrl': 'https://drive.google.com/drive/u/0/folders/1V_DK7Px5w_niEKLlWhDr_GPgIYHG3Du-'}, 'message': 'ok', 'code': '200'}\n",
      "https://me2.do/FzQgoRUF\n"
     ]
    }
   ],
   "source": [
    "import requests\n",
    "\n",
    "client_id = \"VUxpFYqcSowtohtzljMr\" # 개발자센터에서 발급받은 Client ID 값\n",
    "client_secret = \"y_J3QIAtu2\" # 개발자센터에서 발급받은 Client Secret 값\n",
    "\n",
    "origin_url = \"https://drive.google.com/drive/u/0/folders/1V_DK7Px5w_niEKLlWhDr_GPgIYHG3Du-\"\n",
    "\n",
    "req_param = {\n",
    "    \"url\":origin_url\n",
    "}\n",
    "req_header={\n",
    "    \"X-Naver-Client-Id\":client_id,\n",
    "    \"X-Naver-Client-Secret\":client_secret\n",
    "}\n",
    "url = \"https://openapi.naver.com/v1/util/shorturl\"\n",
    "\n",
    "res = requests.post(url, data=req_param, headers=req_header)\n",
    "print(res.status_code)\n",
    "\n",
    "if (res.ok):\n",
    "    print(type(res.text))\n",
    "    print(type(res.json()))\n",
    "    print(res.json())\n",
    "    short_url = res.json()['result']['url']\n",
    "    print(short_url)"
   ]
  },
  {
   "cell_type": "markdown",
   "id": "d5e1179a",
   "metadata": {},
   "source": [
    "### 블로그 검색하기"
   ]
  },
  {
   "cell_type": "code",
   "execution_count": 69,
   "id": "877d0c7f",
   "metadata": {},
   "outputs": [
    {
     "name": "stdout",
     "output_type": "stream",
     "text": [
      "[['<b>파이썬</b>자격증 종류 및 체계적인 학습절차', '연리지(連理枝)', '#<b>파이썬</b>자격증 취업을 하기 위해서는 다양한 능력을 가지고 있어야 했습니다. 이론적인 지식은... 마지막으로 <b>파이썬</b>자격증에 도전하여 취득한 후 입사지원을 해 볼 생각이었습니다. 단기간에 취득할 수 있어야... ', 'blog.naver.com/iclick62', 'https://blog.naver.com/iclick62/223376341162'], ['[노원<b>파이썬</b>학원] 코딩교육 체계적으로 받은 후기', '그럼에도 불구하고..', '항상 이용하는 넷플릭스, 인스타그램이 <b>파이썬</b>으로 만들어졌다는 걸 알고 놀랐어요. 초등학생인 조카가 지금 배우고 있는 게 <b>파이썬</b>이거든요. 안그래도 항상 코딩에 관심이 많았는데, 노원<b>파이썬</b>학원을... ', 'blog.naver.com/dmsdud0395', 'https://blog.naver.com/dmsdud0395/223409544706'], ['<b>파이썬</b>자격증 종류 취득과정 및 수업방법', 'diary', '빅데이터를 배우기 위해선 가장 기초적인 <b>파이썬</b>을 배워야 했습니다. 그래서 가장 먼저 <b>파이썬</b>자격증을 취득하게 되었어요. 개발자 수업을 듣기 위해 학원을 알아보았습니다. 생각보다 많은 곳이 있어서 가장... ', 'blog.naver.com/ppong_2', 'https://blog.naver.com/ppong_2/223348347109'], ['<b>파이썬</b> 자격증 취득을 희망한다면', 'Onelog', '빅데이터를 전문적으로 학습하기 전에 기초적인 <b>파이썬</b>을 배워야 했고 수강할만한 곳을 찾고 있었어요! <b>파이썬</b>이란 데이터 처리를 위한 프로그래밍 언어이기 때문에 기초적인 부분부터 실무에 도움이 될만한... ', 'blog.naver.com/sow723', 'https://blog.naver.com/sow723/223373911489'], ['강남프로그래밍학원 체계적인 <b>파이썬</b> 수업 과정', 'aeng’s', '그 중에서 AI 개발자가 필수적으로 배워둬야 한다는 <b>파이썬</b> 과목을 등록하기 위해 방문을 했어요.... 첫 수업에서는 <b>파이썬</b>에 대해 먼저 간략하게 소개를 해 주셨어요. 이건 문법이 다른 언어에 비해서 비교적... ', 'blog.naver.com/aengpark', 'https://blog.naver.com/aengpark/223353556159'], ['코딩이 대세니까 엄마도 배운다 Do it! 첫 코딩 with <b>파이썬</b>', '즐거운 봄하늘의 19호실', '첫 코딩 with <b>파이썬</b> Do it! 첫 코딩 with <b>파이썬</b> 저자 정동균 출판 이지스퍼블리싱 발매 2021.01.15. 제가 코딩을 처음 학습하기 앞서 이 책을 고른 이유 바로 책 겉표지에 쓰여있는 세가지 장점이예요. 비유와... ', 'blog.naver.com/sweetten', 'https://blog.naver.com/sweetten/223368318203'], ['<b>파이썬</b>(Python), 비주얼 스튜디오 코드 설치로 프로그래밍... ', 'Play IT', '<b>파이썬</b>(Python)은 현재 프로그램 언어 점유율이 가장 높으며, 많은 도메인에서 표준 프로그래밍 언어로 자리 잡고 있습니다. <b>파이썬</b>은 사용이 쉽고 빠른 개발이 가능한데요. 다른 언어나 라이브러리와... ', 'blog.naver.com/winsweet', 'https://blog.naver.com/winsweet/223399673405'], ['의정부코딩학원 자바 vs <b>파이썬</b> 어느 걸 배워야 할까?', '그건내과자야', '자바 ( JAVA ) 와 <b>파이썬</b> ( PYTHON ) 에 대해서 알아보고 비교해보는 포스팅해볼게요 ! ✅ 언어의 종류 ✅ 자바 ( JAVA ) ✔️ 객체 지향 언어에요 ! ✔️ JVM에서 실행돼요 ! <b>파이썬</b> ( Python ) ✔️ 인터프리터... ', 'blog.naver.com/xorbs6169', 'https://blog.naver.com/xorbs6169/223264584778'], ['초등고학년 수준에 맞춘 와이즈코딩 <b>파이썬</b>과정', '와이즈코딩러닝센터', '와이즈코딩 <b>파이썬</b>과정은 시작합니다. 텍스트 코딩은 코드의 의미를 알아야 하며, 어느 부분에서 어떤... 그래서 와이즈코딩은 <b>파이썬</b>을 선택했습니다. <b>파이썬</b>은 입문용으로 적합한 텍스트 코딩-기초... ', 'blog.naver.com/nadash7', 'https://blog.naver.com/nadash7/223365755005'], ['코딩학원 <b>파이썬</b> 수업 내용 공유', 'Lovely couple song♪', '-코딩 언어 교육 : <b>파이썬</b>, 자바, C언어, C++ 등 -웹/앱개발 -AI/빅데이터 -정보보안 전문가 -서버 관리자... AI 분야에 관심이 많아 주로 사용되는 <b>파이썬</b> 과정을 선택했습니다. <b>파이썬</b>은 문법이 쉬워 입문자가... ', 'blog.naver.com/kyluvth', 'https://blog.naver.com/kyluvth/223297519725'], ['대구<b>파이썬</b>학원 기초부터 확실하게 배우자!', 'TIAM', '여러분도 <b>파이썬</b>이라고 많이 들어보셨을 거 같아요. 저 역시 문법이 쉽고 실사용률과 생산성이 높아 <b>파이썬</b>에 관심이 많습니다. IT 전문기관에 다니면서 실력을 확실히 쌓고 싶어 대구<b>파이썬</b>학원 등록해 수강... ', 'blog.naver.com/qkrthwjd1231', 'https://blog.naver.com/qkrthwjd1231/223323477645'], ['(23.12.)2023년 KAIST 카이스트 사이버영재교육 <b>파이썬</b> 레벨... ', '초등 남아 형제와 휴양림 여행 즐기기', '작년에 SW코딩 한창 빠져있던 아들래미가 블록코딩 왠만한거 다 해보고 텍스트 코딩 해보고 싶다해서 먼저 <b>파이썬</b> 수업으로 사이버영재교육 2학기 수강을 했었어요. 보통 <b>파이썬</b>하고 C언어, 자바 순으로... ', 'blog.naver.com/lwooh35', 'https://blog.naver.com/lwooh35/223378758876'], ['<b>파이썬</b> 기초 꿀팁 듣고 취업 성공까지', '살아가면서 만나는 다양한것들', '꾸준하게 주목받았던 코딩 언어 하면 <b>파이썬</b>을 빼놓기가 어려운데요. <b>파이썬</b>은 범용성이 좋기도 하고 활용도도 높아서 개발자가 되려고 한다면 다룰 수 있어야 하는 분야이기 때문이에요. 저도 비전공자... ', 'blog.naver.com/cho_itititit', 'https://blog.naver.com/cho_itititit/223326852701'], ['부산코딩국비지원 IT 취업 빅데이터 자바 <b>파이썬</b> 학원', '즐겨찾기', '빅데이터, 자바, <b>파이썬</b> 등 IT 분야는 빠르게 성장하고 미래 인재에 대한 수요도 계속 늘어나고... 프로그래밍 분야 자바, <b>파이썬</b>, 코틀린 등의 프로그래밍 언어와 각종 프레임워크를 기반으로 한 개발(코딩)... ', 'blog.naver.com/sunsun0621', 'https://blog.naver.com/sunsun0621/223366750108'], ['<b>파이썬</b> 배우기 파이참으로 개발 환경 만들기', 'KEBI BLOG', '요즘 제가 관심 있는것중에 하나가 바로 <b>파이썬</b>입니다. 예전에 잠깐잠깐 해보기는 했지만 본격적으로 해보기 위해서 처음부터 다시 배워 보고 있는데요. 이번 글에서는 <b>파이썬</b>을 배우기 위해서 필요한... ', 'https://hkebi.tistory.com/', 'https://hkebi.tistory.com/2906'], ['언어 기출 풀이집 PDF 무료 제공 (<b>파이썬</b>, 자바, C언어)', '꿈꾸는라이언', '프로그래밍 언어 활용 (C언어, 자바, <b>파이썬</b>) → 8~9문제 출제 1번 정처기 이론 내용은 지난 포스팅에... 자바, <b>파이썬</b>)로 구성된 다양한 코딩 구문들을 직접 하나 하나 해석해야만 풀 수 있는 문제들이기에... ', 'blog.naver.com/dreaming_ryan', 'https://blog.naver.com/dreaming_ryan/223406165692'], ['<b>파이썬</b> 프로젝트 AI개발자 취업 준비', 'aeng’s', '알고 보니 <b>파이썬</b>을 알고 있어야 AI 관련 분야에서 일을 할 수 있었어요. AI개발자의 핵심 언어가 바로 <b>파이썬</b>이라고 했죠. 저는 <b>파이썬</b>을 들어보기만 하고 한 번도 배워 본 적이 없었기 때문에 어떻게 준비를... ', 'blog.naver.com/aengpark', 'https://blog.naver.com/aengpark/223334609849'], ['마이크로비트 with <b>파이썬</b>_피지컬컴퓨팅', '함께해요! SW코딩수업!', '늘상 하던것에서 벗어나니 살짝 설레기도 하는걸요~ 거창하지만 실은 <b>파이썬</b>으로 마이크로비트... (<b>파이썬</b> 버전에서 말하는겁니다) 이 책을 본 느낌은. 이렇게도 할 수 있구나 배워볼수는 있지만 구지? 라는... ', 'blog.naver.com/pinksoya', 'https://blog.naver.com/pinksoya/223283081531'], ['<b>파이썬</b>학원 커리큘럼 및 취업과정', '라파엘의 네 멋대로 읽고 써라!', '이에 따라 2019년도의 1위 인기 언어순위는 당연 <b>파이썬</b>이 되었고요! 이는 다양한 개발 포지션에 있어 입문자 필수 코스로 떠오르며 더욱 그 전망을 높이 평가받을 거라고 해요. 이에 따라 오늘은 <b>파이썬</b>학원을... ', 'blog.naver.com/lyricistkbg', 'https://blog.naver.com/lyricistkbg/223063696180'], ['from selenium import webdriver <b>파이썬</b> 오류', '자기관리 지스타', '허허 <b>파이썬</b>을 거의 모르니 좌절을 많이 느끼고 있습니다. 하지만 하나하나 하다보면 숴워지겠죠. ● 커널 선택 안 됨 비주얼 스튜디오 코드로 <b>파이썬</b>을 할 때는 어떤 코딩 언어로 코드를 돌릴지... ', 'blog.naver.com/zoltraaak', 'https://blog.naver.com/zoltraaak/223408468433'], ['[해시맵] 백준 5568, 20920, 1822, 22252, 7785 - <b>파이썬</b>', '지노랜드', '자꾸 써버릇하지않아서 까먹는데 <b>파이썬</b>은 순열과 조합이라는 내장함수가 존재한다.... permutations 를 이용한 풀이 &quot;&quot; 솔직히 <b>파이썬</b>이라서 쉽지, 내장함수가 없다면 개인적으로는 막 쉬운... ', 'blog.naver.com/mion0602', 'https://blog.naver.com/mion0602/223310359591'], ['<b>파이썬</b> 기초 꿀팁까지 들으며 취업 성공', '계룡산 빛소금 체험관', '요즘 제일 주목받는 코딩 언어는 <b>파이썬</b>이에요. <b>파이썬</b>은 활용도나 범용도가 좋아 개발자라면 보통 다룰 수 있어야 하는 분야로 볼 수 있어요. 저도 전공자는 아니지만 코딩에 흥미가 있었고, 또 이 분야로... ', 'blog.naver.com/bitsogum001', 'https://blog.naver.com/bitsogum001/223283945351'], ['<b>파이썬</b>으로 화상영어 홈페이지 특정 url 파싱', 'Sam의 필리핀 Life ~', '근래 <b>파이썬</b> 공부를 조금 하고 있다는 글을 최근에 올렸습니다. 그런데...이제 막 시작한... 그간 동적페이지 때문에 엑셀 VBA로 해결하지 못하던걸 <b>파이썬</b>으로 해결해서 일이 많이 수월해... ', 'blog.naver.com/saintbell', 'https://blog.naver.com/saintbell/223391036268'], ['5. Hey, <b>파이썬</b>! 생성형 AI 활용 앱 만들어 줘', 'Almona log', 'Hey, <b>파이썬</b>! 생성형 AI 활용 앱 만들어 줘 저자 김한호,최태온,윤택한 출판 성안당 발매 2024.03.13. Hey, <b>파이썬</b>! 생성형 AI 활용 앱 만들어줘 - 김한호, 최태온, 윤택한 (성안당) 이번년도 목표에 <b>파이썬</b> 공부가... ', 'blog.naver.com/qhrhtlvek_s2', 'https://blog.naver.com/qhrhtlvek_s2/223405007852'], ['[200] Hey, <b>파이썬</b>! 생성형 AI 활용 앱 만들어 줘 - 김한호... ', '오즐', '《Hey, <b>파이썬</b>! 생성형 AI 활용 앱 만들어 줘》는 <b>파이썬</b>과 인공지능의 세계를 안내하는 책이에요. 이 책은 비전공자도 쉽게 이해할 수 있도록 <b>파이썬</b> 기초부터 시작해 챗봇 개발 과정이 순차적으로 나와... ', 'blog.naver.com/aqua317', 'https://blog.naver.com/aqua317/223393507443'], ['[도서 리뷰] 실무로 통하는 인과추론 with <b>파이썬</b>', 'DOPT의 게임과 프로그래밍', '실무로 통하는 인과추론 with <b>파이썬</b> 저자 마테우스 파쿠레 출판 한빛미디어 발매 2024.03.05. 안녕하세요... with <b>파이썬</b>&quot;이란 책을 읽어보았습니다. 이쯤되면 항상 오렐리를 번역해주는 한빛미디어에 감사의... ', 'blog.naver.com/armigar', 'https://blog.naver.com/armigar/223400433552'], ['<b>파이썬</b> 기초 꿀팁 전수로 취업 성공', '살아가면서 만나는 다양한것들', '그중에서도 요즘 주목받는 건 <b>파이썬</b>이죠. 활용도도 좋고 범용도도 높아서 초등학생도 많이 배우고 있다고 하죠? 전공자가 아니어도 코딩에 흥미가 있다면 언제든 <b>파이썬</b> 기초부터 배워서 취직을 준비할 수... ', 'blog.naver.com/cho_itititit', 'https://blog.naver.com/cho_itititit/223385454838'], ['아나콘다 설치 PYTHON <b>파이썬</b> 프로그래밍 준비하기', '짜루의 이것저것 리뷰', '아나콘다(ANACONDA)는 <b>파이썬</b> 프로그래밍 프로젝트에서 인기 있는 Python 배포판 중 하나다. 작업에... 위 이미지처럼 화면에 텍스트가 출력되면 <b>파이썬</b> 프로그래밍 준비 끝! 3. 가상 환경 만들기 서두에서... ', 'blog.naver.com/skdaksdptn', 'https://blog.naver.com/skdaksdptn/223304780741'], ['<b>파이썬</b> 독학 책 :: 코딩 자율학습 나도코딩의 <b>파이썬</b> 입문', '밍‘s 여행 일기장', '나도코딩의 <b>파이썬</b> 입문 요즘 AI가 너무 발전하면서 코딩은 거의 기본이 되어있기도 하고 할 줄... 나도코딩의 <b>파이썬</b> 입문 저자 나도코딩 출판 길벗 발매 2023.02.20. 책 표지 사실 <b>파이썬</b> 코딩 하면 예전... ', 'blog.naver.com/sm011sm', 'https://blog.naver.com/sm011sm/223385958176'], ['<b>파이썬</b> 자격증 : 과연 쓸모가 있나? Fact Check', '주들의 그리 대단하진 않지만 굉장한 이야기', '<b>파이썬</b> 자격증 과연 쓸모가 있나? Fact Check IT 산업을 대표하는 기술, 소프트웨어 개발의 핵심적인... 사람들은 <b>파이썬</b>이라고 불리는 프로그래밍 언어부터 공부를 하려는 경우가 가장 많습니다. 아무래도 입문... ', 'blog.naver.com/urmyver', 'https://blog.naver.com/urmyver/223322846856'], ['[서평]<b>파이썬</b>! 생성형 AI 활용 앱 만들어 줘', '왕눈이의 이야기', 'Hey, <b>파이썬</b>! 생성형 AI 활용 앱 만들어 줘 저자 김한호,최태온,윤택한 출판 성안당 발매 2024.03.13. 일단 <b>파이썬</b>이란 단어부터가 낯설었다. 1991년 네덜란드계 소프트웨어 엔지니어인 귀도 반 로섬이 발표한 고급... ', 'blog.naver.com/hjmjkklll', 'https://blog.naver.com/hjmjkklll/223393537252'], ['2024 빅데이터분석기사 실기 대비 (시험일정,공부법, <b>파이썬</b>)', '예문사 공식 블로그', '비전공자나 <b>파이썬</b> 입문자라도 쉽게 이해할 수 있도록 도서를 구성하였어요. 본 교재를 이용하여... <b>파이썬</b> 입문자도 쉽게 따라 할 수 있는 A to Z 실습 본 교재에서는 <b>파이썬</b>을 전혀 접해보지 않은 사람도... ', 'blog.naver.com/yeamoonsa9302', 'https://blog.naver.com/yeamoonsa9302/223412051917'], ['씨큐브코딩 체험수업 <b>파이썬</b> 코딩학원', '미카의 놀이동산', '스크래처, S4A, 앱인벤터, 플레이 <b>파이썬</b>을 체험수업으로 들을 수 있었는데, 학교에서 스크래치 수업을 이미 듣은 적이 있어서 오늘은 <b>파이썬</b> 프로그램 체험수업을 해봤습니다. 아이 체험수업 들어가고... ', 'blog.naver.com/clare1', 'https://blog.naver.com/clare1/223362291377'], ['코딩 국비지원 <b>파이썬</b>&amp;SQL, 3D모델링, 챗GPT 무료수강... ', 'Limca', '코딩 국비지원 <b>파이썬</b>&amp;SQL, 3D모델링, 챗GPT 무료수강 (내일배움카드) 안녕하세요! 유용한 정보... 과정은 <b>파이썬</b>&amp;SQL 기초 강의입니다 데이터분석에 관하여 인기강사인 잔재미코딩님이 진행해주시는 수업으로... ', 'blog.naver.com/sanghunlim79', 'https://blog.naver.com/sanghunlim79/223324382513'], ['코딩으로 이미지 배경제거(누끼따기) / <b>파이썬</b>에서 초 간단하게... ', 'LED감성의 IT생활 이야기', 'ㅋㅋ ) https://www.youtube.com/watch?v=bLAsjL8dx_Y # <b>파이썬</b>으로 쉽게 이미지 제거하는 방법 필요 라이브러리 설치 rebmg 는 u2-net 기반으로 만들어진 라이브러리입니다. <b>파이썬</b>에서는 정말 쉽게 사용할 수... ', 'blog.naver.com/senshig', 'https://blog.naver.com/senshig/223363646154'], ['라즈베리 파이 피코에 써킷<b>파이썬</b> 사용하기.... ', \"MakerLee's Workspace :: MakerLee's Workspace\", '예전부터 <b>파이썬</b>을 좀 배우고 사용해보고 싶었는데 최근에야 시작해보게 되었습니다. 뭔가 제가... 보드에 <b>파이썬</b>을 설치해서 사용해보고자 합니다. 라즈베리 파이 피코 같은 소형 MCU에는 <b>파이썬</b>... ', 'https://pashiran.tistory.com/', 'https://pashiran.tistory.com/1317'], ['[<b>파이썬</b> 기초]  정보수업에서 구글 colab 사용하기... ', '순풍에 돛 단듯', '구글 코랩은 구글에서 제공하는 IDE로 <b>파이썬</b>을 간편하게 실행시킬 수 있다. 컴실에 <b>파이썬</b> 설치하고 버전 관리하는데 힘빼고싶지 않아서 사용하고 있다. 구글 클래스룸을 통해서 학생들로부터 제출받고... ', 'blog.naver.com/pak1768', 'https://blog.naver.com/pak1768/223374013696'], ['코딩 뜻 언어 혼자 공부하는 첫 프로그래밍 <b>파이썬</b> 독학 책추천', '합격의기운', '합격의기운이에요 코딩 뜻 언어 혼자 공부하는 첫 프로그래밍 <b>파이썬</b> 독학 책추천 안녕하세요... 혼자 공부하는 첫 프로그래밍 with <b>파이썬</b> 저자 문현일 출판 한빛미디어 발매 2024.04.05. 오늘 소개해드릴 책 &quot;혼자... ', 'blog.naver.com/gold5doo', 'https://blog.naver.com/gold5doo/223407863923'], ['백수 일기 2일차 / <b>파이썬</b>, 영어공부, 영화 파묘', '적당히 백수라이프', '<b>파이썬</b> 공부 <b>파이썬</b> 강의보면서 영어로 시험보기 영알못 인생에 영어로 시험보는날이 올줄이야... 그래도, 피하지 않고 부딪혀 봄 괜히. 컴퓨터 용어도 안익숙해서 이렇게 해야 영문 텍스트 읽기 편해질듯?... ', 'blog.naver.com/workingchomchom', 'https://blog.naver.com/workingchomchom/223367939196'], ['<b>파이썬</b>(python)의 인기가 인공지능에도 미칠까?', '백기락 Best Biz & AI Coach', '이 정도면 #<b>파이썬</b> #Python 교육이 충분하냐, 구요. ^^ 그래서 이렇게 답변 드렸습니다. 충분하지 않지만, 빅데이터 분석을 적절하게 공부하기엔 충분하다구요... <b>파이썬</b>은 #프로그래밍언어 입니다. 인기가... ', 'blog.naver.com/kirak', 'https://blog.naver.com/kirak/223382110445'], ['ESP32-Cam 카메라 모듈과 <b>파이썬</b>, OpenCV를 이용한 얼굴인식 1', '사소한 시선(視線)', '<b>파이썬</b> 코드를 작성한다. &quot;&quot; &quot; &quot; &quot;&quot; &quot;&quot; &quot;&quot; &quot;&quot; &quot; &quot; url에 앞서 esp32-cam의 이미지 주소를 넣어 주면 된다. 얼굴 인식되면 박스가 그려지는데 이 박스의 중심값을 UDP를 이용해서 로봇에게 전달하도록 하자. json... ', 'blog.naver.com/jcosmoss', 'https://blog.naver.com/jcosmoss/223398013726'], ['<b>파이썬</b> 문자열, format 문법 간단 정리', '愛', '<b>파이썬</b> 까먹을라 정리합니다. 알고리즘 대회를 나가게되서... 냠냠냠 기초부터 이것저것 짬뽕으로... 그리고 <b>파이썬</b> 기초연산... 도 잠깐 봅시다. format도 해봅시다. C언어하다가 <b>파이썬</b>하니깐 뭐임? <b>파이썬</b>... ', 'blog.naver.com/julie08051', 'https://blog.naver.com/julie08051/223352791853'], ['엑셀 VBA의 한계를 극복한 <b>파이썬</b>, 나도 프로그램 만들었다~', 'Sam의 필리핀 Life ~', '결국 <b>파이썬</b>을 공부하기로 결심.. 지난주 금요일 공휴일 덕분에 금/토/일 3일간 열심히 <b>파이썬</b>을 공부했습니다. 물론 그 이전에도 조금씩 유튜브를 찔끔찔끔 보기는 했지만, 이번에는 시간을 투자해서... ', 'blog.naver.com/saintbell', 'https://blog.naver.com/saintbell/223372952978'], ['데이터분석 입문, <b>파이썬</b>이 답이다', '라군의 탐구생활', '<b>파이썬</b>은 영어와 마찬가지로 항상 정복하고 싶은 아이템 중 하나예요. 다들 <b>파이썬</b>이 쉽다고 하는데 전 왜이렇게 접근하기가 힘든지 모르겠어요! 챗GPT <b>파이썬</b> 만남 by 마소캠퍼스 #업무자동화 마소캠퍼스에서... ', 'blog.naver.com/backgroun', 'https://blog.naver.com/backgroun/223354908590'], ['소프트웨어 개발자 복직 준비 중(<b>파이썬</b> 입문)', '생.긴하루', '경력은 앞으로 또 쌓아가면 되니까~ &lt;복직 2단계&gt; 개발 랭귀지 준비~ <b>파이썬</b> 익히고 있다. 랭귀지... ㅋㅋ 왜 애들이 공부하기 싫은지 알겠소~ [나도코딩의 <b>파이썬</b> 입문] 코딩 자율학습 나도코딩의 <b>파이썬</b> 입문... ', 'blog.naver.com/syerane', 'https://blog.naver.com/syerane/223317517677'], ['<b>파이썬</b> 아마존 베스트셀러 장고프로젝트 예제로 배우는... ', 'small steps every day', '<b>파이썬</b> 공부를 하고 있는데요. <b>파이썬</b>에 있는 여러 프레임워크 중에서 단연 장고프로젝트는 웹 프레임워크로 인기를 끌고 있다고 해요. 특별히 이번에 영진닷컴에서 출간한 장고4는 아마존... ', 'blog.naver.com/onetoppro', 'https://blog.naver.com/onetoppro/223378680058'], ['<b>파이썬</b> 독학 온라인 강의 늦지 않았어요 해봅시다.', 'Modulestudio', '<b>파이썬</b> 독학 해봅시다. 온라인 강의를 들어보면서 서서히 간 보아도 되는데 선택이 중요하겠죠 어떤... 조코딩님도 보이네요 <b>파이썬</b> 인강 자체도 AI를 개발한다든지 하더라도 가장 기초적인 프로그램인만큼... ', 'blog.naver.com/modulestudio', 'https://blog.naver.com/modulestudio/223291406561'], ['유데미 할인 쿠폰 :: UDEMY <b>파이썬</b> 독학 강의 17,000부터', 'COMODO E ELEGANTE', \"*신규 수강생 : 17,000부터 <b>파이썬</b> 부트캠프에 대해 고민하고 계신다면, 이제 그만 고민하고 도전해 보세요. 바로 '100일 완성 부트캠프'를 시작해보는 거예요. 개발자가 되고 싶으신가요? <b>파이썬</b>이나 자바스크립트... \", 'blog.naver.com/sguerasavino', 'https://blog.naver.com/sguerasavino/223394544992'], ['아기 인턴의 일 &amp; 자기계발(인턴 과제, <b>파이썬</b> 프로젝트 현황... ', 'Your Joyful EVE', '아무튼 결과는 최종합격 <b>파이썬</b> 프로젝트 현황 - 타로점: 사실 지난 글 쓴 이후로 한 번도 건드리지... 4월호엔 쓸 게 적어도 하나는 있다. <b>파이썬</b>으로 프로그램 하나를 완성했기 때문이지 3월 말엔 방콕에 다녀왔다', 'blog.naver.com/yuuzen0610', 'https://blog.naver.com/yuuzen0610/223406944727'], ['<b>파이썬</b>은 나쁜 언어다', 'My Mate Math - M3', '&quot;성공&quot; 이때 진심으로 <b>파이썬</b> 증오가 시작 5. 9019 &quot;DSLR&quot; 문제에서 (4와 동일한 문제) C언어 배울때... (이번건 시간초과 아니니까 반례는 있단다 푸하하) 결론 &quot;&quot;&quot;<b>파이썬</b>은 PS에는 참 나쁜 언어다&quot;&quot;&quot; 겨우... ', 'blog.naver.com/neutrinoant', 'https://blog.naver.com/neutrinoant/223331996597'], ['저서 「수학자와 함께하는 인공지능 수학 with <b>파이썬</b>」 출간', '서강대학교 공식 블로그', 'with <b>파이썬</b>」 출간 수학과 김종락 교수와 원병선 박사과정생이 「수학자와 함께하는 인공지능 수학 with <b>파이썬</b>」 (한빛아카데미 STEM@COOKBOOK Series)을 출간했다. 이 책은 수학, <b>파이썬</b>, 인공지능이라는 세 가지... ', 'blog.naver.com/sogangpr', 'https://blog.naver.com/sogangpr/223372726006'], ['ChatGpt와 함께 하는 <b>파이썬</b> 공부', '아직은 방학전', '점프 투 <b>파이썬</b>으로 공부하고 있는데 클래스함수의 첫번째 변수를 무조건 self로 해야한다고 써... 내 질문 : <b>파이썬</b>에서 self 의 역할 ChatGPT 내 질문 : <b>파이썬</b>이 객체지향 프로그래밍이어서 self가 필요한가?... ', 'blog.naver.com/shootingcj', 'https://blog.naver.com/shootingcj/223317941400'], ['Deepnote 소개 (<b>파이썬</b> 프로그래밍, 데이터과학, 머신러닝... ', '김동균의 소프트웨어아카데미(2004~ )', '주로 <b>파이썬</b>과 같은 프로그래밍 언어를 사용하여 코드를 작성하고 실행하는 데 초점을... 딥노트로 <b>파이썬</b>, 데이터분석 등 학습자료나 코드 정리할 때 사용하면 편리합니다. 학생, 교사라면... ', 'blog.naver.com/nabilera1', 'https://blog.naver.com/nabilera1/223396194549'], ['AI, 어떻게 활용할 것인가? <b>파이썬</b>(Python)', 'itmaster1님의 블로그', '먼저 ChatGPT의 본적인 기능이나 활용법을 알아봤다면 확장하거나 응용을 하기 위해서는 <b>파이썬</b>을 이해할 필요가 있다. 이건 <b>파이썬</b>과 관련된 내용을 정리한 사항이다. Python 관련 서적입니다. 꼬리에... ', 'blog.naver.com/itmaster1', 'https://blog.naver.com/itmaster1/223326223439'], ['<b>파이썬</b> 기초 : 초보자가 입문을 하기 전 알아야 하는 사항', '주들의 그리 대단하진 않지만 굉장한 이야기', '<b>파이썬</b> 기초 초보자가 입문을 하기 전 알아야 하는 사항 소프트웨어를 개발하는 과정에서 반드시... 하지만, 다른 프로그래밍 언어에 비해 비교적 최근에 점유율이 매우 크게 상승한, <b>파이썬</b>(Python)이라고 하는... ', 'blog.naver.com/urmyver', 'https://blog.naver.com/urmyver/223380185924'], ['<b>파이썬</b> 자바 둘다 배워야 하는 이유', 'gana의 소소한 일상', \"(JAVA)와 <b>파이썬</b>(PYTHON)에 대해 알아보고 비교해보는 포스트를 준비했습니다! 언어의 종류 자바 (JAVA) 이는 객체 지향 언어로, JVM에서 작동합니다. <b>파이썬</b> (Python) 이는 인터프리터 언어로, 소스 코드를 '직접... \", 'blog.naver.com/gana0118_', 'https://blog.naver.com/gana0118_/223269894698'], ['AWS Lambda 런타임 <b>파이썬</b> 버전 변경하기(업그레이드)', '하이제니스', '해당 Function은 <b>파이썬</b> 3.7으로 구동 되고 있는 것이다. AWS Lambda에서는 보안등 여러 가지 문제로... 프로젝트가 <b>파이썬</b>이니까 <b>파이썬</b>의 최신 버전으로 선택을 한다. 여기서 중요한 것이 최신 버전으로... ', 'blog.naver.com/chandong83', 'https://blog.naver.com/chandong83/223342950002'], ['39. FM라디오 만들기(마이크로<b>파이썬</b>)', '지구인의 희망은? (안종제, @jonjae.bsky.social)', 'FM라디오 수신용 마이크로<b>파이썬</b> 프로그램 현재 인터넷에 있는 RDA5807M 에 대한 프로그램은 대개... 마이크로<b>파이썬</b> 언어로 작성해도 충분합니다. 하지만 마이크로<b>파이썬</b>으로 작성된 프로그램을... ', 'blog.naver.com/phy2sci', 'https://blog.naver.com/phy2sci/223370825361'], ['자율학습 나도코딩의 <b>파이썬</b> 입문  Day1 1장 Hello <b>파이썬</b>!', 'small steps every day', '코딩 자율학습 첫 시간에 학습할 내용은 <b>파이썬</b> 설치와 비주얼 스튜디오 코드(vscode)입니다. 프로그램을 설치한 후에 설정하는 부분도 설명을 하고요. 코딩을 배울 때 가장 첫 번째 작성하는 Hello <b>파이썬</b>... ', 'blog.naver.com/onetoppro', 'https://blog.naver.com/onetoppro/223317876835'], ['<b>파이썬</b> chapter1~2', '비전 95', \"*교사 수업 블로그 접속 방법 - 카테고리 --&gt; 컴퓨터 --&gt; 목록열기 '<b>파이썬</b> 수업... 이태준 * <b>파이썬</b> 설치 - 교재 Chapter1-2 <b>파이썬</b> 설치(최신버전 설치) - 교재 Chapter 2 Lesson 2-1... \", 'blog.naver.com/tjlee06', 'https://blog.naver.com/tjlee06/223374954889'], ['혼자 공부하는 첫 프로그래밍 with <b>파이썬</b> 개정판, 문현일', 'Clarke Square', '혼자 공부하는 첫 프로그래밍 with <b>파이썬</b> 저자 문현일 출판 한빛미디어 발매 2024.04.05. 베타리더로 참여했던 혼자 공부하는 첫 프로그래밍 with <b>파이썬</b> 개정판이 출간되었습니다! 예전에 초판을 활용하여 공부를... ', 'blog.naver.com/clarkesquare', 'https://blog.naver.com/clarkesquare/223409602345'], ['<b>파이썬</b>공부 패키지 강의로 독학 성공하기', '스마트동스쿨 공식블로그', '오늘은 &lt; <b>파이썬</b>공부 &gt;를 주제로 여러분께 &lt;<b>파이썬</b> 인강&gt; 추천드리려고 해요! 우선, <b>파이썬</b>공부가 왜 필요한지! 부터 알아보도록 할게요. <b>파이썬</b>? <b>파이썬</b>은 프로그래머 귀도 반 로섬이 개발한 프로그래밍... ', 'blog.naver.com/skyktc', 'https://blog.naver.com/skyktc/223388005212'], ['인포앤북 어린이 <b>파이썬</b> 방학 동안에 집에서 코딩 책 보고... ', '행복한 만득', '어린이 <b>파이썬</b> 방학 동안에 집에서 코딩 책 보고 연습하기 요즘 방학을 맞은 아이랑 컴퓨터로 이것저것... 어린이 <b>파이썬</b> 어린이 코딩 책이 재밌게 나와서 추천합니다 똑똑한 <b>파이썬</b> 저자 황재호 출판 인포앤북... ', 'blog.naver.com/jung_2616', 'https://blog.naver.com/jung_2616/223330123035'], ['[마소캠퍼스] 비전공자도 쉽게 이해하는 강의|AI 활용 <b>파이썬</b>... ', '햅삐라잇', 'ChatGPT로 쉽게 배우는 <b>파이썬</b>, 코딩 초보에게도 추천할 수 있는 강의를 만날 수 있습니다 위 링크... 기본인 <b>파이썬</b> 코딩의 종류가 너무 다양하지만 아무래도 가장 기본적으로 하기 좋은 <b>파이썬</b>을 골랐습니다!... ', 'blog.naver.com/91427ib', 'https://blog.naver.com/91427ib/223355002175'], ['온라인 강의로 코딩 독학하기 <b>파이썬</b> 독학추천해요', '친절한 양선생', '바로, <b>파이썬</b> 강의인데요. 이번에, 유데미 udemy에서 진행하는 교육을 저도 들어보려고 하는데요. 강의는 <b>파이썬</b>을 전혀 모르는 사람들부터 <b>파이썬</b>에 대해서 많이 알고 있는 사람들까지 필요에 따른 강의를... ', 'blog.naver.com/dudwls2382', 'https://blog.naver.com/dudwls2382/223289779241'], ['장고 웹개발 <b>파이썬</b> 코딩배우기 : 예제로 배우는 Django 4', '木', '<b>파이썬</b> Django 책으로 독학하기 오늘은 Python에 대해서 숙련도가 좀 있고, 제대로 한번 프로젝트 하면서... - Django(쟝고/장고)는 <b>파이썬</b>으로 만들어진 무료 오픈소스 웹 애플리케이션 프레임워크(web application... ', 'blog.naver.com/cea8828', 'https://blog.naver.com/cea8828/223380422371'], ['<b>파이썬</b> 강좌 8, 9,10,11 차시 (라인평생교육원)', '아직은 방학전', \"') &gt;&gt;&gt; 입력창에 값을 지정하고 두번째가 0인 경우 안내메시지 출력 #<b>파이썬</b>독학 #<b>파이썬</b>강좌 #라인평생교육원 #인조이<b>파이썬</b> #아직은방학전\", 'blog.naver.com/shootingcj', 'https://blog.naver.com/shootingcj/223365568209'], ['외로운 텍스트마이닝 독학.. R이냐 <b>파이썬</b>이냐!', '더자람교육농장', 'R과 <b>파이썬</b>이란 도구를 독학하다 (뼈문과) 질적연구방법의 아름다움 빅데이터분석으로 방향을 잡은 건, 기존의 양적연구의 한계를 많이 느끼고 있기 때문인데, 특히 소비시장의 분석의 경우 빅데이터가 가장... ', 'blog.naver.com/jodosu', 'https://blog.naver.com/jodosu/223386547883'], ['Hey, <b>파이썬</b>! 생성형AI활용 앱 만들어 줘(김한호,최태온,윤택한)', '전시회다이어리', 'Hey, <b>파이썬</b>! 생성형 AI 활용 앱 만들어 줘 저자 김한호,최태온,윤택한 출판 성안당 발매 2024.03.13. 2022년... &lt;Hey, <b>파이썬</b>! 생성형 AI활용 앱만들어줘&gt;는 프로그램 자체를 만드는 것이 아니라 생성형AI활용모델... ', 'blog.naver.com/xnosis01', 'https://blog.naver.com/xnosis01/223396234195'], ['<b>파이썬</b>독학 체계적으로 쉽게 배워보아요!', '유유의 이야기 한 잔', '<b>파이썬</b>독학 체계적으로 쉽게 배워보아요! 오늘은 <b>파이썬</b>독학을 어떻게 할지에 대해서 알아봅시다~ <b>파이썬</b>에 대해서 여러분 잘 아시나요? <b>파이썬</b>은 프로그램을 설계하는 프로그래밍 언어 중 하나에요! 0과 1을... ', 'blog.naver.com/smujack', 'https://blog.naver.com/smujack/223299159365'], ['실무로 통하는 인과추론 with <b>파이썬</b> - 심도 깊은 데이터... ', '돌스의 맛있고 즐거운 여행', '실무로 통하는 인과추론 with <b>파이썬</b> - 심도 깊은 데이터 분석을 위한 지침서 - 실무로 통하는 인과추론 with <b>파이썬</b> 저자 마테우스 파쿠레 출판 한빛미디어 발매 2024.03.05. 1. 누구를 위한 책인가요? 실무로 통하는... ', 'blog.naver.com/haram4th', 'https://blog.naver.com/haram4th/223393113794'], ['버전별로 <b>파이썬</b> 설치하기, 가상환경 구성 : virtualenv... ', '즐거운 시작 100번 : (부제)작심삼일 100번', '사용하던 <b>파이썬</b> 환경을 다시 구성해야했다. 기존에 사용하던 3.7 버전과 3.8 버전을 기본으로 설치하고 최근 버전까지 설치해서 사용하기 위한 셋팅을 진행했다. 필요한 버전은 <b>파이썬</b> 공식사이트에서... ', 'blog.naver.com/bringblingme', 'https://blog.naver.com/bringblingme/223369137741'], ['<b>파이썬</b>으로 시작하는 실무로 통하는 인과추론 데이터 분석에서... ', '기록하는 투자자, 컨티뉴언', '&lt;실무로 통하는 인과추론 with <b>파이썬</b>&gt;입니다. 이 책은 결론부터 말씀드리면 살짝 어렵습니다. 아니 많이... 그리고 <b>파이썬</b>을 활용한다면 좀 더 다양한 추론을 해볼 수 있는거죠. 온라인 마케팅 예산을 1달러... ', 'blog.naver.com/iwillbe_therich', 'https://blog.naver.com/iwillbe_therich/223397071512'], ['일상이 자동화되는 <b>파이썬</b> 생활 프로그래밍by 생초보', '교육,정보가 금메달', '<b>파이썬</b>.. 그것도 일상이 자동화되는 정말 제목만으로 절 유혹하기에 충분했어요. 게다가 막내가 코딩학원에서 <b>파이썬</b>을 배우고 있었기에 더 확장되서 배울 수 있다고 생각했어요. 비전공자도.. 이말이 더 와... ', 'blog.naver.com/bingfu', 'https://blog.naver.com/bingfu/223349892716'], ['<b>파이썬</b> 챌린지 : 주간 회고록 - 4주 차', '공부, 일상 속 모험', '<b>파이썬</b> 코드로 만드는 인터페이스이고 다 만들어진 위젯이 많아 <b>파이썬</b>으로 구현하는 동적인 페이지에 최적화된 도구로 보인다. 랭체인은 많이 익숙해 졌는데 아직도 어떤 부분이 자동으로 이루어... ', 'blog.naver.com/yodd', 'https://blog.naver.com/yodd/223406134410'], ['네이버 증권 크롤링 (<b>파이썬</b>, requests, pandas)', '정리정돈', '<b>파이썬</b>으로 웹페이지를 크롤링 할 때 requests 와 BeautifulSoup를 많이 사용합니다. 오늘... https://nbviewer.org/gist/FinanceData/0089c27d75220cc9101205bd35712b17 <b>파이썬</b>으로 할 수 있는 다양한... ', 'blog.naver.com/gacktneco', 'https://blog.naver.com/gacktneco/223354495741'], ['<b>파이썬</b>독학 인강으로 기초부터 실무 능력까지 키워요!', '호잇의 룰루랄라', '오늘은 컴퓨터 코딩 프로그래밍 언어인 C언어, JAVA, <b>파이썬</b> 중 비교적 배우기 쉽다는 장점을 가지고 있는 <b>파이썬</b>에 대해 알아보고 <b>파이썬</b>독학 할 수 있는 <b>파이썬</b> 인강 알아보겠습니다! <b>파이썬</b>이란? 직관적이고... ', 'blog.naver.com/thebenzecl', 'https://blog.naver.com/thebenzecl/223404127355'], ['주식 데이터를 활용한 <b>파이썬</b> 데이터분석 2주차... ', '아직은 방학전', \"plot(kind='bar') 2주차 과제 정답 주식 데이터를 활용한 <b>파이썬</b> 데이터분석... plot(kind ='bar') #<b>파이썬</b>강좌, #국민취업제도, #스파르타코딩클럽... \", 'blog.naver.com/shootingcj', 'https://blog.naver.com/shootingcj/223402393197'], ['<b>파이썬</b> 아는척 메뉴얼', \"Paul's Freeway\", '쉬운 <b>파이썬</b> - 모듈 <b>파이썬</b> 배운지 얼마 안됩니다. 저도 잘 모른다는 얘기죠. 배우면서 배운만큼 연재해 보려구요. 세상에서 가장 쉬우면서도 가장 강력한 <b>파이썬</b> 같이... ', 'blog.naver.com/paulopaik', 'https://blog.naver.com/paulopaik/223344568462'], ['코딩활용능력 1급(<b>파이썬</b>) A형, B형, 2급, 3급 샘플문제(KAIT)', '올빼미간이역', 'KAIT( 정보통신기술자격)의 코딩활용능력 1급(<b>파이썬</b>) A형, B형 샘플문제 입니다. 1급 샘플문제 1급 A형 샘플문제 첨부파일 코딩활용능력 1급 샘플문제 A형.pdf 1급 B형 샘플문제 첨부파일 코딩활용능력... ', 'blog.naver.com/owl10owl', 'https://blog.naver.com/owl10owl/223407785455'], ['아기 인턴의 자기계발 일기(직무 리서치, <b>파이썬</b>, 재테크)... ', 'Your Joyful EVE', '(지금은 업무 맡아서 진행하고 있습니다) <b>파이썬</b> 프로젝트 타로점을 볼 수 있는 프로그램을 만들었다.... 올해 목표 중 하나가 <b>파이썬</b> 프로젝트를 완료하는 것이었는데, 이 프로그램을 업그레이드해보는 걸로... ', 'blog.naver.com/yuuzen0610', 'https://blog.naver.com/yuuzen0610/223370919839'], ['가마가츠 울티마쉴드 GM2194 <b>파이썬</b>블랙', '클럽GPOINT', '지인에게 선물 주려고 산 아이템 가마가츠 GM-2194 <b>파이썬</b>블랙 입니다. gm-2192를... 선물용으로다가 <b>파이썬</b> 블랙을 구매했네요. gm-2194앞면 gm-2194 뒷면 하단 양쪽 포캣 울티마쉴드 상단 양쪽... ', 'blog.naver.com/chjjin2', 'https://blog.naver.com/chjjin2/223407535695'], ['<b>파이썬</b> 강좌 4, 5, 6차시 (라인평생교육원)', '아직은 방학전', '리스트이름 = [0번요소, 1번요소, 2번요소 ...] 문자열 뿐만 아니라 <b>파이썬</b>의 자료형 또한... (no_ex2(3, 2), 2) &gt;&gt;&gt;error #<b>파이썬</b> #<b>파이썬</b>독학 #라인평생교육원 #재미있는<b>파이썬</b> #<b>파이썬</b>함수', 'blog.naver.com/shootingcj', 'https://blog.naver.com/shootingcj/223362049720'], ['라즈베리파이 화면 자동 회전 - 회전센서, <b>파이썬</b>', '먼바다 외딴섬 조그만 바닷가', '작동을 확인했으니 회전방향에 맞게 화면 회전하는 명령어 추가. &quot; &quot; &quot; &quot; &quot; &quot; &quot; &quot; 부팅시 <b>파이썬</b> 파일 자동 실행되게 하기 터미널에서 아래명령어로 autostart파일 편집 내용 마지막 줄에 내용 추가', 'blog.naver.com/raekitong', 'https://blog.naver.com/raekitong/223374820917'], ['<b>파이썬</b> &amp; 텐서플로 설치 for “모두를 위한 머신러닝/딥러닝... ', '흐강의 블로그', '깃허브에서 <b>파이썬</b> 소스를 가지고 왔으니 윈도우 로컬에서 <b>파이썬</b>을 실행할 수 있는 환경을 만드는 것이다. <b>파이썬</b>과 관련된 개발 환경으로 도커, visual studio code, jupyter notebook... ', 'blog.naver.com/yeojh1', 'https://blog.naver.com/yeojh1/223321284830'], ['입문 책: 고객 니즈가 보이는 데이터 분석 with <b>파이썬</b>', '길벗 IT', '고객 니즈가 보이는 데이터 분석 with <b>파이썬</b> 트렌드 분석자가 알려주는 실무 데이터 분석 고객의... <b>파이썬</b> 문법부터 넘파이, 판다스 등 데이터 분석에 필요한 개념도 설명하므로 프로그래밍 지식이... ', 'blog.naver.com/gilbutzigy', 'https://blog.naver.com/gilbutzigy/223412114045'], ['경기한정 초중고) 2024년 1학기 ATC 주니어스쿨 <b>파이썬</b> 등... ', '초등 남아 형제와 휴양림 여행 즐기기', '지원 *<b>파이썬</b> 응용반은 2학기에 모집 나. 운영형태: 온라인반 / 오프라인반 다. 운영 프로그램... ly/2024-1-atc-school 2) 선정 방법 - <b>파이썬</b>기초반: ICT 활용능력 수행 평가 및 심층 면접을 통한 선발... ', 'blog.naver.com/lwooh35', 'https://blog.naver.com/lwooh35/223395854526'], ['<b>파이썬</b> 데이터 분석 &amp; 시각화 웹 대시보드 제작하기', 'small steps every day', '요즘 <b>파이썬</b>을 배워보고 싶어서 다양한 책을 읽게 되는데요. 이번에 읽은 책은 앤써북에서 출간한 <b>파이썬</b> 데이터 분석 &amp; 시각화 웹 대시보드 제작하기입니다. 책의 저자이신 박찬의... ', 'blog.naver.com/onetoppro', 'https://blog.naver.com/onetoppro/223350347578'], ['Bigdata00-<b>파이썬</b>&amp;웹크롤링 데이터 수집과 전처리... ', '▷ 윤샘컴교실 (^(oo)^) YoonSemComClassroom ◁ :: ▷ 윤샘컴교실 (^(oo)^) YoonSemComClassroom ◁', '++ <b>파이썬</b> / 웹크롤링, 빅데이터 분석, 딥러닝, AI ++ ( <b>파이썬</b> == 자바스크립트 == 내용 및 수준 70% 내외 동일 ) <b>파이썬</b> 장점 !! <b>파이썬</b> &amp; HTML &amp; CSS / 웹크롤링 빅데이터 분석 anaconda... ', 'https://edyoon.tistory.com/', 'https://edyoon.tistory.com/1369'], ['(1) [<b>파이썬</b> 버전] 공공API를 크롤링하여 그누보드로 웹사이트... ', '개발자의 일상', '<b>파이썬</b>으로 공공API를 크롤링하여 그누보드 DB에 입력합니다. 그누보드를 수정하여 공공데이터를 노출해 줍니다. crontab으로 스케줄링하여 주기적으로 공공데이터를 가져옵니다. 국내호스팅은 crontab을... ', 'blog.naver.com/zauin', 'https://blog.naver.com/zauin/223375023128'], ['<b>파이썬</b> 강좌 20차시 (라인평생교육원)', '아직은 방학전', \"DataFrame() 동아리['번호'] = no 동아리['이름'] = name 동아리['생년'] = birth 동아리 &gt;&gt;&gt; 번호 이름 생년 0 1 기동 1975 1 2 진수 1980 2 3 재현 1992 #<b>파이썬</b>강좌... \", 'blog.naver.com/shootingcj', 'https://blog.naver.com/shootingcj/223390929463'], ['라즈베리파이 + <b>파이썬</b> + LED + Web', '인터랙티브 아트, 전시, 기획, 프로그래머', 'Web에서 라즈베리파이의 LED 제어하기 <b>파이썬</b>의 웹 라이브러리 flask를 이용해서 라즈베리의 LED 컨트롤 해 보기 <b>파이썬</b> 소스 &lt;&gt;&lt;&gt; &lt;&gt; &quot;&quot; &quot;&quot; &quot;&quot; html소스 index.html... ', 'blog.naver.com/tramper2', 'https://blog.naver.com/tramper2/223357474166'], ['(서평) Hey <b>파이썬</b> 생성형 AI 활용 앱 만들어 줘는 AI 시대를... ', '세상의 모든 이슈', \"Hey, <b>파이썬</b>! 생성형 AI 활용 앱 만들어 줘 생성형 AI는 다양한 걸 창작할 수 있습니다. 텍스트, 이미지... 성안당 출판사에서 선보인 신간 'Hey, <b>파이썬</b>! 생성형 AI 활용 앱 만들어 줘'은 생성형 AI 서비스에 질문을... \", 'https://showbiz.tistory.com/', 'https://showbiz.tistory.com/1276'], ['<b>파이썬</b> 가상환경 만들기 (venv)', 'B급 코드 리뷰', '<b>파이썬</b> 가상환경을 만들어 보자. 개발을 하다보면 라이브러리 버전이 맞지않아 원하는... cmd창 또는 Vscode powershell에서 <b>파이썬</b> 가상환경 명령어 실행 python -m venv myvenv 3. 가상환경... ', 'https://iamgus.tistory.com/', 'https://iamgus.tistory.com/674'], ['그누보드6 with <b>파이썬</b>(python) 설치 후기', '네 다리 소반위에 죽 한그릇', '몇 개월전 그누보드 다음 버전은 <b>파이썬</b>이 될 거라는 소문이 있었지만 실제 나올지 몰랐습니다.... 집 노트북은 리눅스고 <b>파이썬</b>(3.8 이상 버전)이 이미 설치되어 있어 별 무리 없이 진행했습니다. 그리고... ', 'https://qhrtm.tistory.com/', 'https://qhrtm.tistory.com/212'], ['맥에서 <b>파이썬</b> 명령어 찾을 수 없다고 나올 때 - 슬기로운... ', '슬기로운 탐구생활 - 슬기로운 탐구생활', '며칠 동안 <b>파이썬</b>으로 업무 자동화 해주는 프로그램을 만질 일이 있어서 맥북에서 <b>파이썬</b>을 사용하는데 많은 어려움을 겪었다. 그 어려움을 해결한 경험을 잊어버리지 않기 위해서 기록한다. 1.... ', 'https://whdrnr01.tistory.com/', 'https://whdrnr01.tistory.com/869'], ['<b>파이썬</b>( Python ) 설치해보기', '삽질창고', '우선 <b>파이썬</b> 홈페이지 접속하기 Download Python | Python.org 그냥 다운로드 <b>파이썬</b> 주소에서 다운받아서 설치하면 된다.. 난 …윈도우니까?! 그리고...구형 노트북이라 지원 안될 것 같지만 혹시... ', 'https://fallingstar.tistory.com/', 'https://fallingstar.tistory.com/218'], ['Verilog - <b>파이썬</b>으로 테스트 벤치 작성하기 cocotb - 킵', 'B로그0간', '<b>파이썬</b>으로 테스트벤치를 작성하도록 도와주는 <b>파이썬</b> 프로젝트가 있어 일단 킵 이름은 cocotb 라고 하네 공식 사이트는 여기 https://docs.cocotb.org/en/stable... ', 'https://wiznxt.tistory.com/', 'https://wiznxt.tistory.com/1028'], ['세상을 기억하는 나만의 틀 :: <b>파이썬</b> 개발 환경 마련하기... ', '세상을 기억하는 나만의 틀 :: 세상을 기억하는 나만의 틀', '<b>파이썬</b> 개발환경 마련하기 python 공부 개인적으로는 늦었지만,, 더 늦기전에 입문하고 공부해야 할 <b>파이썬</b> python 공부 감정노동가인 내 업무와 <b>파이썬</b>이 무슨 관련이 있겠냐만... ', 'https://skypoet.tistory.com/', 'https://skypoet.tistory.com/278'], ['네이버 검색 키워드 자동 추출하기 (<b>파이썬</b> 코드 무료 공개)', 'B급 코드 리뷰', '<b>파이썬</b> 코드로 작성하자. 3. 자동완성 키워드 자동추출 <b>파이썬</b> 코드 import requests import json keyword_pre = &quot;유튜브&quot; keyword_post = [&quot;&quot;,&quot;ㄱ&quot;,&quot;ㄴ&quot;,&quot;ㄷ&quot;,&quot;ㄹ&quot;,&quot;ㅁ&quot;,&quot;ㅂ&quot;] # 키워드... ', 'https://iamgus.tistory.com/', 'https://iamgus.tistory.com/659']]\n"
     ]
    }
   ],
   "source": [
    "import requests\n",
    "import pprint\n",
    "\n",
    "headers = {\n",
    "    'X-Naver-Client-Id': 'VUxpFYqcSowtohtzljMr',\n",
    "    'X-Naver-Client-Secret': 'y_J3QIAtu2',\n",
    "}\n",
    "\n",
    "payload = {\n",
    "    'query': '파이썬',\n",
    "    'display': 100,\n",
    "    'sort': 'sim'\n",
    "}\n",
    "\n",
    "url = 'https://openapi.naver.com/v1/search/blog.json'\n",
    "\n",
    "res = requests.get(url, params=payload, headers=headers)\n",
    "items_data = res.json()['items']\n",
    "#print(items_data)\n",
    "\n",
    "items_list = list()\n",
    "item_list = []\n",
    "for item in items_data:\n",
    "#     print(item)\n",
    "    item_list.append(item['title'])\n",
    "    item_list.append(item['bloggername'])\n",
    "    item_list.append(item['description'])\n",
    "    item_list.append(item['bloggerlink'])\n",
    "    item_list.append(item['link'])\n",
    "\n",
    "    items_list.append(item_list)\n",
    "    item_list = []\n",
    "\n",
    "print(items_list)\n",
    "\n",
    "with open('data/nhnblog.txt','w',encoding=\"utf-8\")as file:\n",
    "    for items in items_list:\n",
    "        for item in items:\n",
    "            item = item + '\\n'\n",
    "            file.write(item)\n",
    "        file.write('-'*150+'\\n')"
   ]
  }
 ],
 "metadata": {
  "kernelspec": {
   "display_name": "Python 3 (ipykernel)",
   "language": "python",
   "name": "python3"
  },
  "language_info": {
   "codemirror_mode": {
    "name": "ipython",
    "version": 3
   },
   "file_extension": ".py",
   "mimetype": "text/x-python",
   "name": "python",
   "nbconvert_exporter": "python",
   "pygments_lexer": "ipython3",
   "version": "3.10.9"
  }
 },
 "nbformat": 4,
 "nbformat_minor": 5
}
