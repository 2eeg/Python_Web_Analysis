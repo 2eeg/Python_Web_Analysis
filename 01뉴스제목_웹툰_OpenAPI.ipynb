{
 "cells": [
  {
   "cell_type": "markdown",
   "id": "eb0bfa44",
   "metadata": {},
   "source": [
    "## 1. 뉴스제목 가져오기\n",
    "* user-agent 요청헤더를 반드시 설정해야 한다."
   ]
  },
  {
   "cell_type": "code",
   "execution_count": 2,
   "id": "f0d27781",
   "metadata": {},
   "outputs": [],
   "source": [
    "# requests 라이브러리 설치여부 확인\n",
    "import requests\n",
    "import bs4\n",
    "from bs4 import BeautifulSoup"
   ]
  },
  {
   "cell_type": "code",
   "execution_count": 3,
   "id": "9788d6ac",
   "metadata": {},
   "outputs": [
    {
     "name": "stdout",
     "output_type": "stream",
     "text": [
      "requests version: 2.32.3\n",
      "bs4 version: 4.12.3\n"
     ]
    }
   ],
   "source": [
    "# requests, bs4 버전 확인하기\n",
    "print(f'requests version: {requests.__version__}')\n",
    "print(f'bs4 version: {bs4.__version__}')"
   ]
  },
  {
   "cell_type": "markdown",
   "id": "ccb91def-cde3-4aeb-b0e5-2e7233500333",
   "metadata": {},
   "source": [
    "### 1. 뉴스 제목 추출하기"
   ]
  },
  {
   "cell_type": "code",
   "execution_count": 22,
   "id": "94c12fd6",
   "metadata": {},
   "outputs": [
    {
     "name": "stdout",
     "output_type": "stream",
     "text": [
      "https://news.naver.com/section/105\n",
      "<Response [200]>\n",
      "<class 'requests.models.Response'>\n",
      "200 True\n",
      "88\n",
      "https://n.news.naver.com/mnews/article/016/0002454618 “상장 문턱 높았다”…카카오엔터 결국 매물로 [투자360]\n",
      "https://n.news.naver.com/mnews/article/comment/016/0002454618 \n",
      "https://n.news.naver.com/mnews/article/421/0008182093 LGU+ 와이파이7 공유기·도어캠, 레드닷 디자인 어워드 본상 수상\n",
      "https://n.news.naver.com/mnews/article/comment/421/0008182093 \n",
      "https://n.news.naver.com/mnews/article/029/0002946940 차세대 신소재 `그래핀`으로 `투명 필름` 만든다\n",
      "https://n.news.naver.com/mnews/article/comment/029/0002946940 \n",
      "https://n.news.naver.com/mnews/article/011/0004471731 불 꺼진 인천스타트업파크…멀어진 韓실리콘밸리\n",
      "https://n.news.naver.com/mnews/article/comment/011/0004471731 \n",
      "https://n.news.naver.com/mnews/article/052/0002177603 컴투스, 제1회 글로벌 게임개발 공모전 '컴:온' 수상작 발표\n",
      "https://n.news.naver.com/mnews/article/comment/052/0002177603 \n",
      "https://n.news.naver.com/mnews/article/018/0005983173 \"PCR도 자동화된다\"...씨젠, 유럽서 큐레카 실물 공개\n",
      "https://n.news.naver.com/mnews/article/comment/018/0005983173 \n",
      "https://n.news.naver.com/mnews/article/092/0002369946 추억과 미래를 한 자리에…넷마블 게임박물관, 체험형 전시로 ‘눈길’\n",
      "https://n.news.naver.com/mnews/article/comment/092/0002369946 \n",
      "https://n.news.naver.com/mnews/article/018/0005983251 한정판 거래 시장 잡은 '크림', EBITDA 흑자 전환\n",
      "https://n.news.naver.com/mnews/article/comment/018/0005983251 \n",
      "https://n.news.naver.com/mnews/article/366/0001067934 'HBM 점유율 70%' SK하이닉스, 삼성전자 제치고 D램 점유율 1위 차지\n",
      "https://n.news.naver.com/mnews/article/comment/366/0001067934 \n",
      "https://n.news.naver.com/mnews/article/025/0003432988 'HBM 독주' SK하이닉스, 삼성전자 제치고 D램 점유율 1위 올라\n",
      "https://n.news.naver.com/mnews/article/comment/025/0003432988 \n",
      "https://n.news.naver.com/mnews/article/031/0000923155 SK하이닉스, 삼성 제치고 사상 처음 D램 시장 1위 올라\n",
      "https://n.news.naver.com/mnews/article/comment/031/0000923155 \n",
      "https://n.news.naver.com/mnews/article/092/0002369988 SK하이닉스, 42년만에 삼성전자 제치고 D램 점유율 1위 등극\n",
      "https://n.news.naver.com/mnews/article/comment/092/0002369988 \n",
      "https://n.news.naver.com/mnews/article/029/0002947012 서정진 회장, 사재로 셀트리온 주식 500억원 어치 취득\n",
      "https://n.news.naver.com/mnews/article/comment/029/0002947012 \n",
      "https://n.news.naver.com/mnews/article/030/0003301816 [이슈플러스] 트럼프 '관세 폭탄', 스마트폰 시장 침체 우려\n",
      "https://n.news.naver.com/mnews/article/comment/030/0003301816 \n",
      "https://n.news.naver.com/mnews/article/092/0002369987 2040년 초자동화 공장…AI와 인간, 누가 이끌까\n",
      "https://n.news.naver.com/mnews/article/comment/092/0002369987 \n",
      "https://n.news.naver.com/mnews/article/009/0005473406 서정진 셀트리온 회장, 사재 털어 500억 주식 매입\n",
      "https://n.news.naver.com/mnews/article/comment/009/0005473406 \n",
      "https://n.news.naver.com/mnews/article/092/0002369981 \"리액션 영상도 OK\"…아이폰17 프로, 듀얼 영상 녹화 가능\n",
      "https://n.news.naver.com/mnews/article/comment/092/0002369981 \n",
      "https://n.news.naver.com/mnews/article/030/0003301792 마이크론, 美 관세에 D램 모듈·SSD 가격 인상…삼성·SK 행보 촉각\n",
      "https://n.news.naver.com/mnews/article/comment/030/0003301792 \n",
      "https://n.news.naver.com/mnews/article/030/0003301791 “SK하이닉스, 1분기 D램 시장 1위…HBM 효과로 삼성 제쳐”\n",
      "https://n.news.naver.com/mnews/article/comment/030/0003301791 \n",
      "https://n.news.naver.com/mnews/article/014/0005333522 '주가부양 안간힘' 서정진 셀트리온 회장 사재로 500억 자사주 취득\n",
      "https://n.news.naver.com/mnews/article/comment/014/0005333522 \n",
      "https://n.news.naver.com/mnews/article/001/0015320144 'HBM 날개' SK하이닉스, 삼성전자 제치고 D램 점유율 1위 등극\n",
      "https://n.news.naver.com/mnews/article/comment/001/0015320144 \n",
      "https://n.news.naver.com/mnews/article/008/0005178107 '보유현금 3조' 크래프톤 \"올해 M&A 큰 장…대형 게임사도 검토\"\n",
      "https://n.news.naver.com/mnews/article/comment/008/0005178107 \n",
      "https://n.news.naver.com/mnews/article/469/0000858572 카카오는 부인, 노조는 반발...카카오엔터 매각설에 발칵\n",
      "https://n.news.naver.com/mnews/article/comment/469/0000858572 \n",
      "https://n.news.naver.com/mnews/article/015/0005117023 \"대박 마케팅\" 이 악문 삼성…갤럭시 어떻게 팔았길래 [영상]\n",
      "https://n.news.naver.com/mnews/article/comment/015/0005117023 \n",
      "https://n.news.naver.com/mnews/article/030/0003301766 슈퍼마이크로 'NVIDIA B200시스템' 성능 우위 입증...디에스앤지, 기술검증 착수\n",
      "https://n.news.naver.com/mnews/article/comment/030/0003301766 \n",
      "https://n.news.naver.com/mnews/article/421/0008182811 크림, 작년 韓·日 매출 2976억 기록…사상 최대치\n",
      "https://n.news.naver.com/mnews/article/comment/421/0008182811 \n",
      "https://n.news.naver.com/mnews/article/421/0008182808 \"'암호화'된 정보일 뿐인데\"…카카오페이, 정보유출 논란에 발목\n",
      "https://n.news.naver.com/mnews/article/comment/421/0008182808 \n",
      "https://n.news.naver.com/mnews/article/092/0002369977 [써보고서] 예금토큰은 미래가 될까…'땡겨요' 결제해보니\n",
      "https://n.news.naver.com/mnews/article/comment/092/0002369977 \n",
      "https://n.news.naver.com/mnews/article/366/0001067902 카카오, 카카오엔터 매각설에 “주주와 다양한 방안 검토 중”\n",
      "https://n.news.naver.com/mnews/article/comment/366/0001067902 \n",
      "https://n.news.naver.com/mnews/article/138/0002194336 삼성전기·LG이노텍, 계절적 비수기 넘고 웃을까…美 관세·수요 위축은 변수\n",
      "https://n.news.naver.com/mnews/article/comment/138/0002194336 \n",
      "https://n.news.naver.com/mnews/article/092/0002369973 \"러시아·중국, 스페이스X 스타링크 무력화 시도 중\"\n",
      "https://n.news.naver.com/mnews/article/comment/092/0002369973 \n",
      "https://n.news.naver.com/mnews/article/030/0003301758 이재용 회장, 일본 출장 마치고 귀국…글로벌 행보 지속\n",
      "https://n.news.naver.com/mnews/article/comment/030/0003301758 \n",
      "https://n.news.naver.com/mnews/article/092/0002369971 이재명, 대선 레이스 돌입...당 대표직 사퇴\n",
      "https://n.news.naver.com/mnews/article/comment/092/0002369971 \n",
      "https://n.news.naver.com/mnews/article/014/0005333485 배민, \"배달료 통합 개편으로 라이더 소득 11%↑\"\n",
      "https://n.news.naver.com/mnews/article/comment/014/0005333485 \n",
      "https://n.news.naver.com/mnews/article/014/0005333484 '해킹 피해' 위믹스, 11일 투자자 대상 간담회\n",
      "https://n.news.naver.com/mnews/article/comment/014/0005333484 \n",
      "https://n.news.naver.com/mnews/article/003/0013173428 카카오 \"카카오엔터 매각, 확정된 사항 아니다\"\n",
      "https://n.news.naver.com/mnews/article/comment/003/0013173428 \n",
      "https://n.news.naver.com/mnews/article/030/0003301722 “HBM 늦어질라”…SK하이닉스, 美  반도체 공장 건설 위해 현지 주민 설득 나서\n",
      "https://n.news.naver.com/mnews/article/comment/030/0003301722 \n",
      "https://n.news.naver.com/mnews/article/032/0003362237 결국 머스크 생각대로?…NASA 국장 지명자 “달보다 화성 진출 우선”\n",
      "https://n.news.naver.com/mnews/article/comment/032/0003362237 \n",
      "https://n.news.naver.com/mnews/article/015/0005116996 서정진 회장 사재털어 셀트리온 주식 500억원 어치 취득\n",
      "https://n.news.naver.com/mnews/article/comment/015/0005116996 \n",
      "https://n.news.naver.com/mnews/article/023/0003898497 우주로 진출하는 지드래곤…비틀즈 이어 국내 최초 음원·뮤비 우주 송출\n",
      "https://n.news.naver.com/mnews/article/comment/023/0003898497 \n",
      "https://n.news.naver.com/mnews/article/584/0000031802 국내 석박사생 해외 유수대서 AI 반도체 역량 높인다\n",
      "https://n.news.naver.com/mnews/article/comment/584/0000031802 \n",
      "https://n.news.naver.com/mnews/article/092/0002369968 신생아 선별검사, 현 민간 무분별 시행 대신 국가 주도 체계화해야\n",
      "https://n.news.naver.com/mnews/article/comment/092/0002369968 \n",
      "https://n.news.naver.com/mnews/article/011/0004472027 국내 AI 반도체 인재, 세계 최고 대학에서 키운다\n",
      "https://n.news.naver.com/mnews/article/comment/011/0004472027 \n",
      "https://n.news.naver.com/mnews/article/421/0008182487 상급종합병원 중증수술 35% 증가…\"중증·응급·희귀 전환 본격화\"\n",
      "https://n.news.naver.com/mnews/article/comment/421/0008182487 \n"
     ]
    }
   ],
   "source": [
    "# IT/과학 뉴스 \n",
    "req_param = {\n",
    "    'sid': 105\n",
    "}\n",
    "# \n",
    "url = 'https://news.naver.com/section/{sid}'.format(**req_param)\n",
    "print(url)\n",
    "\n",
    "url2 = 'https://news.naver.com/section/105'\n",
    "# 요청 헤더 설정 : 브라우저 정보\n",
    "req_header = {\n",
    "    'user-agent':\n",
    "'Mozilla/5.0 (Windows NT 10.0; Win64; x64) AppleWebKit/537.36 (KHTML, like Gecko) Chrome/135.0.0.0 Safari/537.36'\n",
    "}\n",
    "\n",
    "# requests 의 get() 함수 호출하기 \n",
    "res = requests.get(url, headers=req_header)\n",
    "print(res)\n",
    "print(type(res))\n",
    "print(res.status_code, res.ok)  # 응답 코드 출력\n",
    "\n",
    "# 응답(response)이 OK 이면\n",
    "if res.ok:\n",
    "        html = res.text\n",
    "        # 응답(response)에서 text 추출\n",
    "        # BeautifulSoup 객체 생성  \n",
    "        soup = BeautifulSoup(html, 'html.parser')\n",
    "        # CSS 선택자\n",
    "        # <div class=\"sa_text\"> <a href=''></a> </div>\n",
    "        print(len(soup.select(\"div.sa_text a[href*='mnews/article']\")))\n",
    "        a_tag_list = soup.select(\"div.sa_text a[href*='mnews/article']\")\n",
    "        # print(a_tag_list)\n",
    "        # print(type(a_tag_list))\n",
    "    \n",
    "        # <a> 태그 리스트 순회하기\n",
    "        for a_tag in a_tag_list:\n",
    "            title = a_tag.text.strip()\n",
    "            # href 속성값 추출하기\n",
    "            link = a_tag['href']\n",
    "            print(link, title)\n",
    "\n",
    "        #     print(tag.text.strip(), tag['href'])\n",
    "else: \n",
    "    # requests 의 get() 함수 호출하기 \n",
    "    print('Error: ', res.status_code)\n",
    " \n",
    "\n"
   ]
  },
  {
   "cell_type": "markdown",
   "id": "45640860-a449-4285-90d7-5f300292b461",
   "metadata": {},
   "source": [
    "### 1.1 뉴스제목 추출하는 함수 선언하기"
   ]
  },
  {
   "cell_type": "code",
   "execution_count": null,
   "id": "9f2e4ef8",
   "metadata": {},
   "outputs": [],
   "source": [
    "import requests\n",
    "from bs4 import BeautifulSoup\n",
    "\n",
    "section_dict = {100:'정치',101:'경제',102:'사회',103:'생활/문화',104:'세계',105:'IT/과학'}\n",
    "\n",
    "def print_news(sid):\n",
    "    section_dict = {100:'정치',101:'경제',102:'사회',103:'생활/문화',104:'세계',105:'IT/과학'}\n",
    "    url = 'https://news.naver.com/section/{sid}'.format(**req_param)\n",
    "    print(f'====> {url} {section_dict[sid]} 뉴스 <====')\n",
    "    # 요청 헤더 설정 : 브라우저 정보\n",
    "    req_header = {\n",
    "        'user-agent':\n",
    "    'Mozilla/5.0 (Windows NT 10.0; Win64; x64) AppleWebKit/537.36 (KHTML, like Gecko) Chrome/135.0.0.0 Safari/537.36'\n",
    "    }\n",
    "\n",
    "    # requests 의 get() 함수 호출하기 \n",
    "    res = requests.get(url, headers=req_header)\n",
    "\n",
    "    # 응답(response)이 OK 이면\n",
    "    if res.ok:\n",
    "            html = res.text\n",
    "            # 응답(response)에서 text 추출\n",
    "            # BeautifulSoup 객체 생성  \n",
    "            soup = BeautifulSoup(html, 'html.parser')\n",
    "            # CSS 선택자\n",
    "            # <div class=\"sa_text\"> <a href=''></a> </div>F\n",
    "            a_tag_list = soup.select(\"div.sa_text a[href*='mnews/article']\")\n",
    "            # print(a_tag_list)\n",
    "            # print(type(a_tag_list))\n",
    "        \n",
    "            # <a> 태그 리스트 순회하기\n",
    "            for a_tag in a_tag_list:\n",
    "                title = a_tag.text.strip()\n",
    "                # href 속성값 추출하기\n",
    "                link = a_tag['href']\n",
    "                print(link, title)\n",
    "\n",
    "            #     print(tag.text.strip(), tag['href'])\n",
    "    else: \n",
    "        # requests 의 get() 함수 호출하기 \n",
    "        print('Error: ', res.status_code)\n",
    "\n"
   ]
  },
  {
   "cell_type": "code",
   "execution_count": 31,
   "id": "858952c6",
   "metadata": {},
   "outputs": [
    {
     "name": "stdout",
     "output_type": "stream",
     "text": [
      "====> https://news.naver.com/section/105 생활/문화 뉴스 <====\n",
      "https://n.news.naver.com/mnews/article/011/0004471731 불 꺼진 인천스타트업파크…멀어진 韓실리콘밸리\n",
      "https://n.news.naver.com/mnews/article/comment/011/0004471731 \n",
      "https://n.news.naver.com/mnews/article/079/0004011717 ETRI, 꿈의 물질 '그래핀' 이용해 투명필름 개발 성공\n",
      "https://n.news.naver.com/mnews/article/comment/079/0004011717 \n",
      "https://n.news.naver.com/mnews/article/001/0015319026 KT 지니 TV 셋톱박스 4, '레드닷 디자인 어워드' 본상 수상\n",
      "https://n.news.naver.com/mnews/article/comment/001/0015319026 \n",
      "https://n.news.naver.com/mnews/article/018/0005983254 네이버웹툰-문피아, 2025 지상최대 웹소설 공모전 개최\n",
      "https://n.news.naver.com/mnews/article/comment/018/0005983254 \n",
      "https://n.news.naver.com/mnews/article/366/0001067826 포스코DX, 영상인식 AI 기술로 야생동물 교통사고 예방\n",
      "https://n.news.naver.com/mnews/article/comment/366/0001067826 \n",
      "https://n.news.naver.com/mnews/article/052/0002177603 컴투스, 제1회 글로벌 게임개발 공모전 '컴:온' 수상작 발표\n",
      "https://n.news.naver.com/mnews/article/comment/052/0002177603 \n",
      "https://n.news.naver.com/mnews/article/018/0005983300 AI 반도체 인재, 세계 최고 대학에서 키운다\n",
      "https://n.news.naver.com/mnews/article/comment/018/0005983300 \n",
      "https://n.news.naver.com/mnews/article/421/0008182484 체코 방한단에 韓 우주항공 기술 타진…우주항공 협력 포럼\n",
      "https://n.news.naver.com/mnews/article/comment/421/0008182484 \n",
      "https://n.news.naver.com/mnews/article/092/0002369990 가수 지드래곤, KAIST와 공동 연구도…프로젝트 2건 추진\n",
      "https://n.news.naver.com/mnews/article/comment/092/0002369990 \n",
      "https://n.news.naver.com/mnews/article/366/0001067934 'HBM 점유율 70%' SK하이닉스, 삼성전자 제치고 D램 점유율 1위 차지\n",
      "https://n.news.naver.com/mnews/article/comment/366/0001067934 \n",
      "https://n.news.naver.com/mnews/article/025/0003432988 'HBM 독주' SK하이닉스, 삼성전자 제치고 D램 점유율 1위 올라\n",
      "https://n.news.naver.com/mnews/article/comment/025/0003432988 \n",
      "https://n.news.naver.com/mnews/article/031/0000923155 SK하이닉스, 삼성 제치고 사상 처음 D램 시장 1위 올라\n",
      "https://n.news.naver.com/mnews/article/comment/031/0000923155 \n",
      "https://n.news.naver.com/mnews/article/092/0002369988 SK하이닉스, 42년만에 삼성전자 제치고 D램 점유율 1위 등극\n",
      "https://n.news.naver.com/mnews/article/comment/092/0002369988 \n",
      "https://n.news.naver.com/mnews/article/029/0002947012 서정진 회장, 사재로 셀트리온 주식 500억원 어치 취득\n",
      "https://n.news.naver.com/mnews/article/comment/029/0002947012 \n",
      "https://n.news.naver.com/mnews/article/030/0003301816 [이슈플러스] 트럼프 '관세 폭탄', 스마트폰 시장 침체 우려\n",
      "https://n.news.naver.com/mnews/article/comment/030/0003301816 \n",
      "https://n.news.naver.com/mnews/article/092/0002369987 2040년 초자동화 공장…AI와 인간, 누가 이끌까\n",
      "https://n.news.naver.com/mnews/article/comment/092/0002369987 \n",
      "https://n.news.naver.com/mnews/article/030/0003301809 LGU+, 온라인 다이렉트 요금제 '너겟'으로 일원화\n",
      "https://n.news.naver.com/mnews/article/comment/030/0003301809 \n",
      "https://n.news.naver.com/mnews/article/009/0005473406 서정진 셀트리온 회장, 사재 털어 500억 주식 매입\n",
      "https://n.news.naver.com/mnews/article/comment/009/0005473406 \n",
      "https://n.news.naver.com/mnews/article/030/0003301801 쎄크 “HBM·4680 검사장비 확대…내년 매출 1000억 돌파”\n",
      "https://n.news.naver.com/mnews/article/comment/030/0003301801 \n",
      "https://n.news.naver.com/mnews/article/092/0002369981 \"리액션 영상도 OK\"…아이폰17 프로, 듀얼 영상 녹화 가능\n",
      "https://n.news.naver.com/mnews/article/comment/092/0002369981 \n",
      "https://n.news.naver.com/mnews/article/030/0003301792 마이크론, 美 관세에 D램 모듈·SSD 가격 인상…삼성·SK 행보 촉각\n",
      "https://n.news.naver.com/mnews/article/comment/030/0003301792 \n",
      "https://n.news.naver.com/mnews/article/030/0003301791 “SK하이닉스, 1분기 D램 시장 1위…HBM 효과로 삼성 제쳐”\n",
      "https://n.news.naver.com/mnews/article/comment/030/0003301791 \n",
      "https://n.news.naver.com/mnews/article/014/0005333522 '주가부양 안간힘' 서정진 셀트리온 회장 사재로 500억 자사주 취득\n",
      "https://n.news.naver.com/mnews/article/comment/014/0005333522 \n",
      "https://n.news.naver.com/mnews/article/001/0015320144 'HBM 날개' SK하이닉스, 삼성전자 제치고 D램 점유율 1위 등극\n",
      "https://n.news.naver.com/mnews/article/comment/001/0015320144 \n",
      "https://n.news.naver.com/mnews/article/008/0005178107 '보유현금 3조' 크래프톤 \"올해 M&A 큰 장…대형 게임사도 검토\"\n",
      "https://n.news.naver.com/mnews/article/comment/008/0005178107 \n",
      "https://n.news.naver.com/mnews/article/469/0000858572 노조 반발 속 카카오 \"카카오 엔터 매각 확정된 것 없다\"\n",
      "https://n.news.naver.com/mnews/article/comment/469/0000858572 \n",
      "https://n.news.naver.com/mnews/article/015/0005117023 \"대박 마케팅\" 이 악문 삼성…갤럭시 어떻게 팔았길래 [영상]\n",
      "https://n.news.naver.com/mnews/article/comment/015/0005117023 \n",
      "https://n.news.naver.com/mnews/article/030/0003301766 슈퍼마이크로 'NVIDIA B200시스템' 성능 우위 입증...디에스앤지, 기술검증 착수\n",
      "https://n.news.naver.com/mnews/article/comment/030/0003301766 \n",
      "https://n.news.naver.com/mnews/article/421/0008182811 크림, 작년 韓·日 매출 2976억 기록…사상 최대치\n",
      "https://n.news.naver.com/mnews/article/comment/421/0008182811 \n",
      "https://n.news.naver.com/mnews/article/421/0008182808 \"'암호화'된 정보일 뿐인데\"…카카오페이, 정보유출 논란에 발목\n",
      "https://n.news.naver.com/mnews/article/comment/421/0008182808 \n",
      "https://n.news.naver.com/mnews/article/092/0002369977 [써보고서] 예금토큰은 미래가 될까…'땡겨요' 결제해보니\n",
      "https://n.news.naver.com/mnews/article/comment/092/0002369977 \n",
      "https://n.news.naver.com/mnews/article/366/0001067902 카카오, 카카오엔터 매각설에 “주주와 다양한 방안 검토 중”\n",
      "https://n.news.naver.com/mnews/article/comment/366/0001067902 \n",
      "https://n.news.naver.com/mnews/article/138/0002194336 삼성전기·LG이노텍, 계절적 비수기 넘고 웃을까…美 관세·수요 위축은 변수\n",
      "https://n.news.naver.com/mnews/article/comment/138/0002194336 \n",
      "https://n.news.naver.com/mnews/article/092/0002369973 \"러시아·중국, 스페이스X 스타링크 무력화 시도 중\"\n",
      "https://n.news.naver.com/mnews/article/comment/092/0002369973 \n",
      "https://n.news.naver.com/mnews/article/030/0003301758 이재용 회장, 일본 출장 마치고 귀국…글로벌 행보 지속\n",
      "https://n.news.naver.com/mnews/article/comment/030/0003301758 \n",
      "https://n.news.naver.com/mnews/article/092/0002369971 이재명, 대선 레이스 돌입...당 대표직 사퇴\n",
      "https://n.news.naver.com/mnews/article/comment/092/0002369971 \n",
      "https://n.news.naver.com/mnews/article/014/0005333485 배민, \"배달료 통합 개편으로 라이더 소득 11%↑\"\n",
      "https://n.news.naver.com/mnews/article/comment/014/0005333485 \n",
      "https://n.news.naver.com/mnews/article/014/0005333484 '해킹 피해' 위믹스, 11일 투자자 대상 간담회\n",
      "https://n.news.naver.com/mnews/article/comment/014/0005333484 \n",
      "https://n.news.naver.com/mnews/article/003/0013173428 카카오 \"카카오엔터 매각, 확정된 사항 아니다\"\n",
      "https://n.news.naver.com/mnews/article/comment/003/0013173428 \n",
      "https://n.news.naver.com/mnews/article/030/0003301722 “HBM 늦어질라”…SK하이닉스, 美  반도체 공장 건설 위해 현지 주민 설득 나서\n",
      "https://n.news.naver.com/mnews/article/comment/030/0003301722 \n",
      "https://n.news.naver.com/mnews/article/032/0003362237 결국 머스크 생각대로?…NASA 국장 지명자 “달보다 화성 진출 우선”\n",
      "https://n.news.naver.com/mnews/article/comment/032/0003362237 \n",
      "https://n.news.naver.com/mnews/article/015/0005116996 서정진 회장 사재털어 셀트리온 주식 500억원 어치 취득\n",
      "https://n.news.naver.com/mnews/article/comment/015/0005116996 \n",
      "https://n.news.naver.com/mnews/article/023/0003898497 우주로 진출하는 지드래곤…비틀즈 이어 국내 최초 음원·뮤비 우주 송출\n",
      "https://n.news.naver.com/mnews/article/comment/023/0003898497 \n",
      "https://n.news.naver.com/mnews/article/584/0000031802 국내 석박사생 해외 유수대서 AI 반도체 역량 높인다\n",
      "https://n.news.naver.com/mnews/article/comment/584/0000031802 \n"
     ]
    }
   ],
   "source": [
    "print_news(103)\n",
    "    "
   ]
  },
  {
   "cell_type": "markdown",
   "id": "323196dc",
   "metadata": {},
   "source": [
    "### 2. Image 다운로드\n",
    "* referer 요청 헤더를 반드시 설정해야 한다."
   ]
  },
  {
   "cell_type": "code",
   "execution_count": null,
   "id": "c72d6cb1",
   "metadata": {},
   "outputs": [
    {
     "name": "stdout",
     "output_type": "stream",
     "text": [
      "200\n",
      "writing to 20220804112251_d97bd1e1b38f0cd022e4e3639d2926b3_IMAG01_1.jpg(299,319 bytes)\n",
      "200\n",
      "writing to 20220804112251_d97bd1e1b38f0cd022e4e3639d2926b3_IMAG01_2.jpg(163,333 bytes)\n",
      "200\n",
      "writing to 20220804112251_d97bd1e1b38f0cd022e4e3639d2926b3_IMAG01_3.jpg(182,530 bytes)\n"
     ]
    }
   ],
   "source": [
    "import requests\n",
    "import os\n",
    "\n",
    "req_header = {\n",
    "    'referer':''\n",
    "}\n",
    "\n",
    "img_urls = [\n",
    "    'https://image-comic.pstatic.net/webtoon/798173/5/20220804112251_d97bd1e1b38f0cd022e4e3639d2926b3_IMAG01_1.jpg',\n",
    "    'https://image-comic.pstatic.net/webtoon/798173/5/20220804112251_d97bd1e1b38f0cd022e4e3639d2926b3_IMAG01_2.jpg',\n",
    "    'https://image-comic.pstatic.net/webtoon/798173/5/20220804112251_d97bd1e1b38f0cd022e4e3639d2926b3_IMAG01_3.jpg'\n",
    "]\n",
    "\n",
    "for img_url in img_urls:\n",
    "    pass\n",
    "    # requests 의 get(url, headers) 함수 호출하기 \n",
    "        \n",
    "        # binary 응답 데이터 가져오기\n",
    "        \n",
    "        # url에서 파일명만 추출하기\n",
    "        \n",
    "        # binday data를 file에 write하기\n"
   ]
  },
  {
   "cell_type": "markdown",
   "id": "e8b00a04",
   "metadata": {},
   "source": [
    "* 현재 요청된 페이지의 image 모두 다운로드 해보기"
   ]
  },
  {
   "cell_type": "code",
   "execution_count": null,
   "id": "b30f7bf5",
   "metadata": {},
   "outputs": [],
   "source": []
  },
  {
   "cell_type": "markdown",
   "id": "2ac9f5f9",
   "metadata": {},
   "source": [
    "### 3. 파일 업로드 하기\n",
    "* http://httpbin.org/post 업로드 요청을 할 수 있는 url"
   ]
  },
  {
   "cell_type": "code",
   "execution_count": null,
   "id": "04da4790",
   "metadata": {},
   "outputs": [
    {
     "name": "stdout",
     "output_type": "stream",
     "text": [
      "200\n"
     ]
    }
   ],
   "source": [
    "import requests\n",
    "\n",
    "upload_files = {\n",
    "    \n",
    "}\n",
    "#print(upload_files)\n",
    "\n",
    "url = 'http://httpbin.org/post'\n",
    "# file 업로드 하려면 requests의 post 함수에 files 속성을 사용합니다.\n",
    "\n"
   ]
  },
  {
   "cell_type": "markdown",
   "id": "7ad65f12",
   "metadata": {},
   "source": [
    "### 4. 캡챠(이미지) API 호출하기\n",
    "* urllib 사용\n",
    "* 1. 캡차 키 발급 요청\n",
    "  2. 캡차 이미지 요청\n",
    "  3. 사용자 입력값 검증 요청"
   ]
  },
  {
   "cell_type": "code",
   "execution_count": 2,
   "id": "bc4ae360-e772-4873-8642-d3494edd34e1",
   "metadata": {},
   "outputs": [],
   "source": [
    "# 캡차 키 발급 요청\n"
   ]
  },
  {
   "cell_type": "code",
   "execution_count": 1,
   "id": "7b95b6a0-c218-4792-82a6-da4d80872071",
   "metadata": {},
   "outputs": [],
   "source": [
    "# 캡차 이미지 요청\n"
   ]
  },
  {
   "cell_type": "code",
   "execution_count": 3,
   "id": "a79076af-2cd0-4de2-8301-316b9130c55e",
   "metadata": {},
   "outputs": [],
   "source": [
    "#  사용자 입력값 검증 요청\n",
    "\n"
   ]
  },
  {
   "cell_type": "markdown",
   "id": "b7d984a6",
   "metadata": {},
   "source": [
    "* requests를 사용하는 코드로 변경하기\n",
    "* [requests docs](https://requests.readthedocs.io/en/latest/user/quickstart/)"
   ]
  },
  {
   "cell_type": "code",
   "execution_count": null,
   "id": "727b427b",
   "metadata": {
    "scrolled": true
   },
   "outputs": [
    {
     "name": "stdout",
     "output_type": "stream",
     "text": [
      "Error Code: 403\n"
     ]
    }
   ],
   "source": [
    "# 사용자 입력값 검증 요청\n",
    "\n"
   ]
  },
  {
   "cell_type": "markdown",
   "id": "d5e1179a",
   "metadata": {},
   "source": [
    "### 5. 블로그 검색하기"
   ]
  },
  {
   "cell_type": "code",
   "execution_count": 1,
   "id": "877d0c7f",
   "metadata": {},
   "outputs": [],
   "source": [
    "import requests\n",
    "import pprint\n",
    "\n",
    "headers = {\n",
    "    'X-Naver-Client-Id': '',\n",
    "    'X-Naver-Client-Secret': '',\n",
    "}\n",
    "\n",
    "payload = {\n",
    "    'query': '파이썬',\n",
    "    'display': 100,\n",
    "    'sort': 'sim'\n",
    "}\n",
    "\n",
    "url = 'https://openapi.naver.com/v1/search/blog.json'\n",
    "\n",
    "\n",
    "# requests get(url, params, headers) 요청 \n",
    "\n",
    "# json() 함수로 응답 결과 가져오오기\n",
    "# 'title' , 'bloggername' , 'description' , 'bloggerlink' , 'link'\n",
    "\n",
    "# 'data/nhnblog.txt' 파일 생성하기\n"
   ]
  }
 ],
 "metadata": {
  "kernelspec": {
   "display_name": "WEBSC",
   "language": "python",
   "name": "python3"
  },
  "language_info": {
   "codemirror_mode": {
    "name": "ipython",
    "version": 3
   },
   "file_extension": ".py",
   "mimetype": "text/x-python",
   "name": "python",
   "nbconvert_exporter": "python",
   "pygments_lexer": "ipython3",
   "version": "3.13.2"
  }
 },
 "nbformat": 4,
 "nbformat_minor": 5
}
