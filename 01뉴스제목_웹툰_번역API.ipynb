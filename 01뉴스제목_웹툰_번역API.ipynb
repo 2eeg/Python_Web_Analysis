{
 "cells": [
  {
   "cell_type": "markdown",
   "id": "eb0bfa44",
   "metadata": {},
   "source": [
    "## 1. 뉴스제목 가져오기\n",
    "* user-agent 요청헤더를 반드시 설정해야 한다."
   ]
  },
  {
   "cell_type": "code",
   "execution_count": 1,
   "id": "f0d27781",
   "metadata": {},
   "outputs": [
    {
     "name": "stdout",
     "output_type": "stream",
     "text": [
      "Name: requests\n",
      "Version: 2.28.1\n",
      "Summary: Python HTTP for Humans.\n",
      "Home-page: https://requests.readthedocs.io\n",
      "Author: Kenneth Reitz\n",
      "Author-email: me@kennethreitz.org\n",
      "License: Apache 2.0\n",
      "Location: c:\\users\\vega2\\anaconda3\\lib\\site-packages\n",
      "Requires: certifi, charset-normalizer, idna, urllib3\n",
      "Required-by: anaconda-client, anaconda-project, conda, conda-build, conda-repo-cli, conda_package_streaming, cookiecutter, datashader, huggingface-hub, jupyterlab_server, panel, pooch, PyGithub, requests-file, requests-toolbelt, Sphinx, tldextract, transformers, webdriver-manager\n"
     ]
    }
   ],
   "source": [
    "!pip show requests"
   ]
  },
  {
   "cell_type": "code",
   "execution_count": 2,
   "id": "f7798ea8",
   "metadata": {},
   "outputs": [
    {
     "name": "stdout",
     "output_type": "stream",
     "text": [
      "Name: beautifulsoup4\n",
      "Version: 4.11.1\n",
      "Summary: Screen-scraping library\n",
      "Home-page: https://www.crummy.com/software/BeautifulSoup/bs4/\n",
      "Author: Leonard Richardson\n",
      "Author-email: leonardr@segfault.org\n",
      "License: MIT\n",
      "Location: c:\\users\\vega2\\anaconda3\\lib\\site-packages\n",
      "Requires: soupsieve\n",
      "Required-by: conda-build, nbconvert\n"
     ]
    }
   ],
   "source": [
    "!pip show beautifulsoup4"
   ]
  },
  {
   "cell_type": "code",
   "execution_count": 15,
   "id": "bf80a429",
   "metadata": {},
   "outputs": [],
   "source": [
    "import requests\n",
    "import bs4\n",
    "from bs4 import BeautifulSoup"
   ]
  },
  {
   "cell_type": "code",
   "execution_count": 16,
   "id": "9788d6ac",
   "metadata": {},
   "outputs": [
    {
     "name": "stdout",
     "output_type": "stream",
     "text": [
      "request ver 2.28.1\n",
      "beautifulsoup 4.11.1\n"
     ]
    }
   ],
   "source": [
    "print(f'request ver {requests.__version__}' )\n",
    "print('beautifulsoup {}'.format(bs4.__version__))"
   ]
  },
  {
   "cell_type": "code",
   "execution_count": 32,
   "id": "94c12fd6",
   "metadata": {},
   "outputs": [
    {
     "name": "stdout",
     "output_type": "stream",
     "text": [
      "https://news.naver.com/section/105\n",
      "200\n",
      "88\n",
      "네이버클라우드·인텔, 국내 스타트업과 AI 공동 연구 https://n.news.naver.com/mnews/article/056/0011699558\n",
      " https://n.news.naver.com/mnews/article/comment/056/0011699558\n",
      "주춤하는 전기차 배터리 산업에 커지는 ‘에너지저장장치’ 시장 https://n.news.naver.com/mnews/article/028/0002684790\n",
      " https://n.news.naver.com/mnews/article/comment/028/0002684790\n",
      "아랍어·러시아어도 통역 제공…삼성, 갤럭시AI 지원 언어 확대 https://n.news.naver.com/mnews/article/015/0004971275\n",
      " https://n.news.naver.com/mnews/article/comment/015/0004971275\n",
      "SKT, ‘T화면공유’ 도입…고객 편의성·신뢰도 ↑ https://n.news.naver.com/mnews/article/016/0002293313\n",
      " https://n.news.naver.com/mnews/article/comment/016/0002293313\n",
      "과기정통부, 지역 정보보호 지원사업 개편…선별적 지원 https://n.news.naver.com/mnews/article/001/0014625539\n",
      " https://n.news.naver.com/mnews/article/comment/001/0014625539\n",
      "카카오헬스케어, ‘구글 클라우드 넥스트’ 초청…협력 논의 https://n.news.naver.com/mnews/article/003/0012485664\n",
      " https://n.news.naver.com/mnews/article/comment/003/0012485664\n",
      "\"1년 뒤 전하는 지금의 낭만\"…감성 돋는 '느린우체통' 눈길 https://n.news.naver.com/mnews/article/003/0012486159\n",
      " https://n.news.naver.com/mnews/article/comment/003/0012486159\n",
      "AI는 ‘효율 싸움'… 구글·인텔, 전성비 높인 반도체 공세 https://n.news.naver.com/mnews/article/011/0004325966\n",
      " https://n.news.naver.com/mnews/article/comment/011/0004325966\n",
      "22대 국회에 입성한 과학기술·IT 전문가 9명 https://n.news.naver.com/mnews/article/092/0002327621\n",
      " https://n.news.naver.com/mnews/article/comment/092/0002327621\n",
      "‘단통법 폐지’ 물 건너가나… 전환지원금 정책 존폐 위기 https://n.news.naver.com/mnews/article/366/0000984754\n",
      " https://n.news.naver.com/mnews/article/comment/366/0000984754\n",
      "\"점보 시리즈 잘나가네?\"…GS25, 비빔면에 김 넣은 '틈새비김면' 출시 https://n.news.naver.com/mnews/article/092/0002327619\n",
      " https://n.news.naver.com/mnews/article/comment/092/0002327619\n",
      "뇌 속 청소부 젊게 만드는 방법 찾았다… \"치매 치료 가능성 확인\" https://n.news.naver.com/mnews/article/366/0000984734\n",
      " https://n.news.naver.com/mnews/article/comment/366/0000984734\n",
      "의대 증원 정책 동력 잃나?...“정부 후퇴 가능성 낮아” https://n.news.naver.com/mnews/article/366/0000984727\n",
      " https://n.news.naver.com/mnews/article/comment/366/0000984727\n",
      "[단독] 국가우주정책연구센터 4년 만에 문 닫는다…“우주정책 공백 불가피” https://n.news.naver.com/mnews/article/366/0000984722\n",
      " https://n.news.naver.com/mnews/article/comment/366/0000984722\n",
      "대만 팹, 지진 피해 정상화...삼성·SK하이닉스 반사익 '제한적' https://n.news.naver.com/mnews/article/092/0002327614\n",
      " https://n.news.naver.com/mnews/article/comment/092/0002327614\n",
      "하이브리드 소듐 전지 개발…\"수 초 만에 급속 충전\" https://n.news.naver.com/mnews/article/584/0000026661\n",
      " https://n.news.naver.com/mnews/article/comment/584/0000026661\n",
      "알츠하이머 발병 70% 낮추는 유전자 변이 발견 https://n.news.naver.com/mnews/article/023/0003827741\n",
      " https://n.news.naver.com/mnews/article/comment/023/0003827741\n",
      "총선 압승한 민주당… 통신 시장, 무엇이 달라질까 https://n.news.naver.com/mnews/article/417/0000995727\n",
      " https://n.news.naver.com/mnews/article/comment/417/0000995727\n",
      "'여당 참패' 마음 급해진 정부…내심 기대 의료계 '사분오열' 난감 https://n.news.naver.com/mnews/article/421/0007475113\n",
      " https://n.news.naver.com/mnews/article/comment/421/0007475113\n",
      "尹 \"국민 뜻 겸허히 받들어 국정쇄신\"...대통령실 참모들 사의표명 https://n.news.naver.com/mnews/article/092/0002327612\n",
      " https://n.news.naver.com/mnews/article/comment/092/0002327612\n",
      "네이버 \"인텔 '가우디2' 기반 고성능 LLM 모델 개발\" https://n.news.naver.com/mnews/article/092/0002327611\n",
      " https://n.news.naver.com/mnews/article/comment/092/0002327611\n",
      "인텔, AI 반도체 '가우디3' 공개…엔비디아 추격 '속도' https://n.news.naver.com/mnews/article/629/0000280184\n",
      " https://n.news.naver.com/mnews/article/comment/629/0000280184\n",
      "HLB, 간암신약 허가 대비 “美 NCCN 가이드라인 등재 신청 완료” https://n.news.naver.com/mnews/article/018/0005712097\n",
      " https://n.news.naver.com/mnews/article/comment/018/0005712097\n",
      "\"여행 가방 2개 크기 우주 서식지, 우주 가면 20m³로 커진다\" [우주로 간다] https://n.news.naver.com/mnews/article/092/0002327609\n",
      " https://n.news.naver.com/mnews/article/comment/092/0002327609\n",
      "셀트리온 \"자가면역 치료제 짐펜트라, 美제형특허 등록\" https://n.news.naver.com/mnews/article/029/0002866839\n",
      " https://n.news.naver.com/mnews/article/comment/029/0002866839\n",
      "구글, AWS 40억불 투자에도 엔트로픽과 '밀월' 문제 없다 https://n.news.naver.com/mnews/article/011/0004326264\n",
      " https://n.news.naver.com/mnews/article/comment/011/0004326264\n",
      "엘앤에프, 유럽 고객사에 9.2조원 규모 양극재 공급한다 https://n.news.naver.com/mnews/article/092/0002327605\n",
      " https://n.news.naver.com/mnews/article/comment/092/0002327605\n",
      "[1분건강] 피지컬100 보고 운동 시작했다면 꼭 읽으세요 https://n.news.naver.com/mnews/article/092/0002327601\n",
      " https://n.news.naver.com/mnews/article/comment/092/0002327601\n",
      "신의 입자 '힉스' 예견한 영국 물리학자 피터 힉스 별세 https://n.news.naver.com/mnews/article/584/0000026659\n",
      " https://n.news.naver.com/mnews/article/comment/584/0000026659\n",
      "리튬보다 500배 많은 소듐으로 배터리 만든다… 출력 성능 개선 성공 https://n.news.naver.com/mnews/article/366/0000984697\n",
      " https://n.news.naver.com/mnews/article/comment/366/0000984697\n",
      "마이너스의 손? 제넥신, 투자마다 손실...1천억 넘어 https://n.news.naver.com/mnews/article/018/0005712013\n",
      " https://n.news.naver.com/mnews/article/comment/018/0005712013\n",
      "원텍, 브라질·중국으로 무대 확장…올해 사상최대 매출 청신호 https://n.news.naver.com/mnews/article/018/0005712012\n",
      " https://n.news.naver.com/mnews/article/comment/018/0005712012\n",
      "[4·10총선] '尹 복심' 김은혜, 지역구 옮겨 재선 성공…\"낮게 임하겠다\" https://n.news.naver.com/mnews/article/138/0002170948\n",
      " https://n.news.naver.com/mnews/article/comment/138/0002170948\n",
      "스마트폰 접기 경쟁 뜨겁다…中 50만원대 폴더블폰까지 등장 https://n.news.naver.com/mnews/article/003/0012485725\n",
      " https://n.news.naver.com/mnews/article/comment/003/0012485725\n",
      "홍콩 비트코인 ETF 승인 가능성↑...국내 시장도 기대↑ https://n.news.naver.com/mnews/article/092/0002327591\n",
      " https://n.news.naver.com/mnews/article/comment/092/0002327591\n",
      "여권내 '가상자산' 입법 실력자 윤창현 의원 낙선… 22대 국회 '가상자산법' 여야 협치, 순항할까 https://n.news.naver.com/mnews/article/138/0002170945\n",
      " https://n.news.naver.com/mnews/article/comment/138/0002170945\n",
      "엔비디아에 견제구? 네이버, 인텔과 AI칩 생태계 구축 나선다 https://n.news.naver.com/mnews/article/009/0005286518\n",
      " https://n.news.naver.com/mnews/article/comment/009/0005286518\n",
      "'총선 끝' 우주항공청장 등 과학기술 분야 대거 인사 예고 https://n.news.naver.com/mnews/article/277/0005404267\n",
      " https://n.news.naver.com/mnews/article/comment/277/0005404267\n",
      "애플, 인도서 아이폰 생산 2배로 확대…'탈중국' 가속화 https://n.news.naver.com/mnews/article/293/0000053413\n",
      " https://n.news.naver.com/mnews/article/comment/293/0000053413\n",
      "K-배터리, 非중국 점유율 45.5%…SK온만 역성장 https://n.news.naver.com/mnews/article/092/0002327579\n",
      " https://n.news.naver.com/mnews/article/comment/092/0002327579\n",
      "SK하이닉스 \"美 인디애나팹, AI 메모리 리더십 강화하는데 기여\" https://n.news.naver.com/mnews/article/092/0002327578\n",
      " https://n.news.naver.com/mnews/article/comment/092/0002327578\n",
      "한미반도체, 신규 고객사로 美 마이크론 확보…추가 수주 기대감↑ [소부장반차장] https://n.news.naver.com/mnews/article/138/0002170942\n",
      " https://n.news.naver.com/mnews/article/comment/138/0002170942\n",
      "셀트리온 ‘짐펜트라’ 美 제형 특허 등록 완료 https://n.news.naver.com/mnews/article/016/0002293392\n",
      " https://n.news.naver.com/mnews/article/comment/016/0002293392\n",
      "인텔이 찜한 네이버클라우드, '가우디' 기반 AI칩 생태계 조성 앞장 https://n.news.naver.com/mnews/article/092/0002327575\n",
      " https://n.news.naver.com/mnews/article/comment/092/0002327575\n"
     ]
    }
   ],
   "source": [
    "# IT/과학 뉴스\n",
    "req_param = {\n",
    "    'sid': 105\n",
    "}\n",
    "url = 'https://news.naver.com/section/{sid}'.format(**req_param)\n",
    "print(url)\n",
    "# 요청 헤더 설정 : 브라우저 정보\n",
    "req_header = {\n",
    "    'user-agent': 'Mozilla/5.0 (Windows NT 10.0; Win64; x64) AppleWebKit/537.36 (KHTML, like Gecko) Chrome/104.0.0.0 Safari/537.36'\n",
    "}\n",
    "res = requests.get(url, headers=req_header)\n",
    "print(res.status_code)\n",
    "if res.ok:\n",
    "    html = res.text #소스보기 텍스트\n",
    "    soup = BeautifulSoup(html, 'html.parser')\n",
    "    '''\n",
    "        <div class=\"sa_text\"> div.sa_text\n",
    "          <a href=\"https://n.news.naver.com/mnews/article\"> div.sa_text a[href*='n.news.naver.com/mnews/article']\n",
    "    '''\n",
    "    print(len(soup.select(\"div.sa_text a[href*='n.news.naver.com/mnews/article']\")))\n",
    "    atag_list = soup.select(\"div.sa_text a[href*='n.news.naver.com/mnews/article']\")\n",
    "    for atag in atag_list:\n",
    "        #print(atag)\n",
    "        #print('-----')\n",
    "        title = atag.text.strip()\n",
    "        link = atag['href']\n",
    "        print(title, link)"
   ]
  },
  {
   "cell_type": "code",
   "execution_count": 33,
   "id": "4461b9cc",
   "metadata": {},
   "outputs": [],
   "source": [
    "section_dict = {100:'정치',101:'경제',102:'사회',103:'생활/문화',104:'세계',105:'IT/과학'}"
   ]
  },
  {
   "cell_type": "code",
   "execution_count": 38,
   "id": "9f2e4ef8",
   "metadata": {},
   "outputs": [],
   "source": [
    "import requests\n",
    "from bs4 import BeautifulSoup\n",
    "\n",
    "def print_news(sid, section):    \n",
    "    # 요청 Parameter\n",
    "    req_param = {\n",
    "    'sid': sid\n",
    "    }\n",
    "    url = 'https://news.naver.com/section/{sid}'.format(**req_param)\n",
    "    \n",
    "    print(f'======> {url} {section} 뉴스 <======')\n",
    "    \n",
    "    # 요청 헤더 설정 : 브라우저 정보\n",
    "    req_header = {\n",
    "        'user-agent': 'Mozilla/5.0 (Windows NT 10.0; Win64; x64) AppleWebKit/537.36 (KHTML, like Gecko) Chrome/104.0.0.0 Safari/537.36'\n",
    "    }\n",
    "    res = requests.get(url, headers=req_header)\n",
    "    print(res.status_code)\n",
    "    print(res.ok)\n",
    "    if res.ok:\n",
    "        html = res.text #소스보기 텍스트 추출\n",
    "        soup = BeautifulSoup(html, 'html.parser')\n",
    "        print(len(soup.select(\"div.sa_text a[href*='n.news.naver.com/mnews/article']\")))\n",
    "        a_tags = soup.select(\"div.sa_text a[href*='n.news.naver.com/mnews/article']\")\n",
    "        for a_tag in a_tags:\n",
    "            #print(a_tag)\n",
    "            title = a_tag.text.strip()\n",
    "            link = a_tag['href']\n",
    "            print(title, link)"
   ]
  },
  {
   "cell_type": "code",
   "execution_count": 39,
   "id": "56730e1f",
   "metadata": {},
   "outputs": [
    {
     "name": "stdout",
     "output_type": "stream",
     "text": [
      "======> https://news.naver.com/section/103 생활/문화 뉴스 <======\n",
      "200\n",
      "True\n",
      "86\n",
      "신한카드, 크루즈 예약시 최대 150달러 혜택 https://n.news.naver.com/mnews/article/030/0003197011\n",
      " https://n.news.naver.com/mnews/article/comment/030/0003197011\n",
      "여수 거문도 근대역사문화공간, 국가등록문화유산 된다 https://n.news.naver.com/mnews/article/277/0005404290\n",
      " https://n.news.naver.com/mnews/article/comment/277/0005404290\n",
      "벤츠코리아, 부분변경 마이바흐 GLS 국내 출시… 2억7900만원부터 https://n.news.naver.com/mnews/article/366/0000984683\n",
      " https://n.news.naver.com/mnews/article/comment/366/0000984683\n",
      "12일 낮 최고 25도 따뜻…전국 건조·제주 낮에 비 [내일날씨] https://n.news.naver.com/mnews/article/421/0007474528\n",
      " https://n.news.naver.com/mnews/article/comment/421/0007474528\n",
      "\"이모·삼촌 판다보러 오세요\"…하나투어, 청두 팬키지 출시 https://n.news.naver.com/mnews/article/421/0007474669\n",
      " https://n.news.naver.com/mnews/article/comment/421/0007474669\n",
      "제8기 국가도서관委 출범…위원장에 윤희윤 대구대 명예교수 https://n.news.naver.com/mnews/article/018/0005711929\n",
      " https://n.news.naver.com/mnews/article/comment/018/0005711929\n",
      "\"멈춰\" 원격으로 차를 세운다?…'온스타' 국내 서비스 개시 [영상] https://n.news.naver.com/mnews/article/015/0004971312\n",
      " https://n.news.naver.com/mnews/article/comment/015/0004971312\n",
      "잠꼬대 심해지고 냄새 맡기 어려워졌다면··· 혹시 ‘이 병’일까? https://n.news.naver.com/mnews/article/032/0003290021\n",
      " https://n.news.naver.com/mnews/article/comment/032/0003290021\n",
      "[날씨] 흐린 하늘빛…전국 곳곳서 약한 비 https://n.news.naver.com/mnews/article/055/0001146307\n",
      " https://n.news.naver.com/mnews/article/comment/055/0001146307\n",
      "[날씨] 전국 흐리고 곳곳 비·소나기…대기 건조 계속 https://n.news.naver.com/mnews/article/422/0000654597\n",
      " https://n.news.naver.com/mnews/article/comment/422/0000654597\n",
      "\"주말 반팔 꺼내세요\"…낮 최고 27도 https://n.news.naver.com/mnews/article/215/0001157036\n",
      " https://n.news.naver.com/mnews/article/comment/215/0001157036\n",
      "[오후날씨 꿀팁] 오후까지 수도권·강원 비…호남·제주에 한때 소나기 https://n.news.naver.com/mnews/article/056/0011699698\n",
      " https://n.news.naver.com/mnews/article/comment/056/0011699698\n",
      "푸바오 적응 순조..재회 앞서 스촨성 판다여행 떴다[함영훈의 멋·맛·쉼] https://n.news.naver.com/mnews/article/016/0002293575\n",
      " https://n.news.naver.com/mnews/article/comment/016/0002293575\n",
      "희비 엇갈린 재계 출신 총선 후보들 https://n.news.naver.com/mnews/article/032/0003290008\n",
      " https://n.news.naver.com/mnews/article/comment/032/0003290008\n",
      "한국서 쇳물 녹이던 네팔 노동자…고향에서 제2의 인생 https://n.news.naver.com/mnews/article/005/0001687903\n",
      " https://n.news.naver.com/mnews/article/comment/005/0001687903\n",
      "실명 원인 1위 '당뇨망막병증'..주기적 검사 필수 https://n.news.naver.com/mnews/article/014/0005169905\n",
      " https://n.news.naver.com/mnews/article/comment/014/0005169905\n",
      "[내일 날씨] 구름 많고 흐려요…낮에는 '봄날씨' https://n.news.naver.com/mnews/article/374/0000378744\n",
      " https://n.news.naver.com/mnews/article/comment/374/0000378744\n",
      "주말까지 초여름 날씨, 낮 기온 최고 25도···일교차 15도 https://n.news.naver.com/mnews/article/032/0003290002\n",
      " https://n.news.naver.com/mnews/article/comment/032/0003290002\n",
      "총선 참패에 '의대 증원' 기로…타협이냐 강행이냐 https://n.news.naver.com/mnews/article/374/0000378739\n",
      " https://n.news.naver.com/mnews/article/comment/374/0000378739\n",
      "주말 '초여름 더위'…서울 등 내륙 일요일 27도까지 올라 https://n.news.naver.com/mnews/article/001/0014625478\n",
      " https://n.news.naver.com/mnews/article/comment/001/0014625478\n",
      "케이카 “벤츠 E클래스 신차 출고 지연에…중고 BMW 5시리즈 불티” https://n.news.naver.com/mnews/article/009/0005286609\n",
      " https://n.news.naver.com/mnews/article/comment/009/0005286609\n",
      "尹 \"국민 뜻 받들어 인적쇄신\"...의대증원 2천명에도 영향? https://n.news.naver.com/mnews/article/296/0000076625\n",
      " https://n.news.naver.com/mnews/article/comment/296/0000076625\n",
      "내년부터 아파트 '제로에너지' 인증…가구당 공사비 130만원 '훌쩍' https://n.news.naver.com/mnews/article/374/0000378727\n",
      " https://n.news.naver.com/mnews/article/comment/374/0000378727\n",
      "“천혜의 환경과 느림의 미학...캘리포니아 ‘푸룬’ 비법이죠” https://n.news.naver.com/mnews/article/016/0002293529\n",
      " https://n.news.naver.com/mnews/article/comment/016/0002293529\n",
      "“겉절이보다 잘 익은 김치” 사소한 습관이 만드는 면역력 https://n.news.naver.com/mnews/article/016/0002293528\n",
      " https://n.news.naver.com/mnews/article/comment/016/0002293528\n",
      "[날씨톡톡] 전국 흐리고 오후까지 중부 곳곳 비, 호남·제주 소나기 https://n.news.naver.com/mnews/article/422/0000654579\n",
      " https://n.news.naver.com/mnews/article/comment/422/0000654579\n",
      "봄 웰빙식 대표주자, 쑥밥 https://n.news.naver.com/mnews/article/016/0002293527\n",
      " https://n.news.naver.com/mnews/article/comment/016/0002293527\n",
      "\"정치인들도 성형 많이 하나?\"...외모가 정치에 어떤 영향을? https://n.news.naver.com/mnews/article/296/0000076624\n",
      " https://n.news.naver.com/mnews/article/comment/296/0000076624\n",
      "“봄 되면 이 음료만 기다려요”…누적 2000만잔 팔린 스벅 메뉴는? https://n.news.naver.com/mnews/article/009/0005286586\n",
      " https://n.news.naver.com/mnews/article/comment/009/0005286586\n",
      "요즘 젊은 암환자 많이 늘어난 이유는? \"신체 노화 더 빨라진 탓\" https://n.news.naver.com/mnews/article/023/0003827739\n",
      " https://n.news.naver.com/mnews/article/comment/023/0003827739\n",
      "‘수면무호흡증’ 방치시 치명적 합병증 유발 https://n.news.naver.com/mnews/article/014/0005169877\n",
      " https://n.news.naver.com/mnews/article/comment/014/0005169877\n",
      "유이, 꿀피부 위해 ‘이 방법’으로 세안한다… 강조한 두 가지는? https://n.news.naver.com/mnews/article/346/0000073222\n",
      " https://n.news.naver.com/mnews/article/comment/346/0000073222\n",
      "\"오토바이 '이것' 눈 관통해\"...19세男 실명 피한 기적적 사건, 뭐길래? https://n.news.naver.com/mnews/article/296/0000076622\n",
      " https://n.news.naver.com/mnews/article/comment/296/0000076622\n",
      "잘 자다가도 갑자기 숨 멈추는 ‘수면무호흡증’ 치료법은? https://n.news.naver.com/mnews/article/020/0003558472\n",
      " https://n.news.naver.com/mnews/article/comment/020/0003558472\n",
      "유튜버 도쿄박사장 “日거주에 관심 많아져…한일 잇는 통로 되고 싶다”[일본의 K유튜버] https://n.news.naver.com/mnews/article/020/0003558470\n",
      " https://n.news.naver.com/mnews/article/comment/020/0003558470\n",
      "5년 생존율 3%인 최악 뇌종양 '교모세포종' 악성화 억제 유전자 밝혀졌다 https://n.news.naver.com/mnews/article/469/0000795426\n",
      " https://n.news.naver.com/mnews/article/comment/469/0000795426\n",
      "피지컬 100, 화제된 '무동력 트레드밀 달리기'… '이곳' 다치기 쉬워 주의 https://n.news.naver.com/mnews/article/346/0000073220\n",
      " https://n.news.naver.com/mnews/article/comment/346/0000073220\n",
      "아우디 Q4 e-트론, 3월 국내서 396대 팔려…독일 전기차 판매 1위 https://n.news.naver.com/mnews/article/009/0005286561\n",
      " https://n.news.naver.com/mnews/article/comment/009/0005286561\n",
      "비만·당뇨 관리에…\"아침보다 저녁에 운동하는 게 더 효과적\" https://n.news.naver.com/mnews/article/023/0003827732\n",
      " https://n.news.naver.com/mnews/article/comment/023/0003827732\n",
      "“그돈이면 배 터지게 회·소고기 먹겠네”…반값·연중 최저가 할인하는 곳은 https://n.news.naver.com/mnews/article/009/0005286557\n",
      " https://n.news.naver.com/mnews/article/comment/009/0005286557\n",
      "매출 하락에 임상시험 지연까지… '의대 정원 파장'에 속타는 제약계 https://n.news.naver.com/mnews/article/346/0000073218\n",
      " https://n.news.naver.com/mnews/article/comment/346/0000073218\n",
      "마른 몸으로 달려야만 하는 여성들…신간 '여자치고 잘 뛰네' https://n.news.naver.com/mnews/article/001/0014625137\n",
      " https://n.news.naver.com/mnews/article/comment/001/0014625137\n",
      "벤츠·BMW보다 잘나간 아우디 전기차…지난달 독일 전기차 1위 https://n.news.naver.com/mnews/article/092/0002327598\n",
      " https://n.news.naver.com/mnews/article/comment/092/0002327598\n"
     ]
    }
   ],
   "source": [
    "print_news(103,section_dict[103])"
   ]
  },
  {
   "cell_type": "markdown",
   "id": "323196dc",
   "metadata": {},
   "source": [
    "### 2. Image 다운로드\n",
    "* referer 요청 헤더를 반드시 설정해야 한다."
   ]
  },
  {
   "cell_type": "code",
   "execution_count": 41,
   "id": "c72d6cb1",
   "metadata": {},
   "outputs": [
    {
     "name": "stdout",
     "output_type": "stream",
     "text": [
      "20220804112251_d97bd1e1b38f0cd022e4e3639d2926b3_IMAG01_1.jpg\n",
      " writing to 20220804112251_d97bd1e1b38f0cd022e4e3639d2926b3_IMAG01_1.jpg(299,319 bytes)\n",
      "20220804112251_d97bd1e1b38f0cd022e4e3639d2926b3_IMAG01_2.jpg\n",
      " writing to 20220804112251_d97bd1e1b38f0cd022e4e3639d2926b3_IMAG01_2.jpg(163,333 bytes)\n",
      "20220804112251_d97bd1e1b38f0cd022e4e3639d2926b3_IMAG01_3.jpg\n",
      " writing to 20220804112251_d97bd1e1b38f0cd022e4e3639d2926b3_IMAG01_3.jpg(182,530 bytes)\n"
     ]
    }
   ],
   "source": [
    "import requests\n",
    "import os\n",
    "\n",
    "req_header = {\n",
    "    'referer':'https://comic.naver.com/webtoon/detail?titleId=798173&no=5&amp;weekday=thu'\n",
    "}\n",
    "img_urls = [\n",
    "    'https://image-comic.pstatic.net/webtoon/798173/5/20220804112251_d97bd1e1b38f0cd022e4e3639d2926b3_IMAG01_1.jpg',\n",
    "    'https://image-comic.pstatic.net/webtoon/798173/5/20220804112251_d97bd1e1b38f0cd022e4e3639d2926b3_IMAG01_2.jpg',\n",
    "    'https://image-comic.pstatic.net/webtoon/798173/5/20220804112251_d97bd1e1b38f0cd022e4e3639d2926b3_IMAG01_3.jpg'\n",
    "]\n",
    "for img_url in img_urls:\n",
    "    res = requests.get(img_url, headers=req_header)\n",
    "    if res.ok:\n",
    "        img_data = res.content\n",
    "        file_name = os.path.basename(img_url)\n",
    "        print(file_name)\n",
    "        # binary data를 file로 저장하기\n",
    "        with open(file_name, 'wb') as file:\n",
    "            print(f' writing to {file_name}({len(img_data):,} bytes)')\n",
    "            file.write(img_data)\n",
    "    else:\n",
    "        print('Error Code ', res.status_code) "
   ]
  },
  {
   "cell_type": "markdown",
   "id": "e8b00a04",
   "metadata": {},
   "source": [
    "#### 현재 요청된 페이지의 image 모두 다운로드 해보기"
   ]
  },
  {
   "cell_type": "code",
   "execution_count": 71,
   "id": "b30f7bf5",
   "metadata": {},
   "outputs": [
    {
     "name": "stdout",
     "output_type": "stream",
     "text": [
      "200 True\n",
      "68\n"
     ]
    }
   ],
   "source": [
    "  import requests\n",
    "import os\n",
    "\n",
    "url = 'https://comic.naver.com/webtoon/detail?titleId=817945&no=37&week=mon'\n",
    "req_header = {\n",
    "    'referer': url\n",
    "}\n",
    "res = requests.get(url)\n",
    "if res.ok: #200\n",
    "    soup = BeautifulSoup(res.text, 'html.parser')\n",
    "    print(len(soup.select(\"img[src*='IMAG01']\")))\n",
    "    img_tags = soup.select(\"img[src*='IMAG01']\")\n",
    "    \n",
    "    img_url_list = []\n",
    "    for img_tag in img_tags:\n",
    "        img_url_list.append(img_tag['src'])\n",
    "    #print(img_url_list)    \n",
    "    \n",
    "    # img 디렉토리가 없다면 생성\n",
    "    if not os.path.isdir('img'):\n",
    "        os.mkdir('img')\n",
    "        \n",
    "    for img_url in img_url_list:\n",
    "        res = requests.get(img_url, headers=req_header)\n",
    "        if res.ok:\n",
    "            img_data = res.content\n",
    "            file_name = os.path.basename(img_url)\n",
    "            # binary data를 file로 저장하기\n",
    "            dir_name = os.path.join('img',file_name)\n",
    "            with open(dir_name, 'wb') as file:\n",
    "                #print(f' writing to {file_name}({len(img_data):,} bytes)')\n",
    "                file.write(img_data)\n",
    "        else:\n",
    "            print(res.status_code)   \n",
    "else:\n",
    "    print(res.status_code)"
   ]
  },
  {
   "cell_type": "markdown",
   "id": "2ac9f5f9",
   "metadata": {},
   "source": [
    "### 파일 업로드 하기\n",
    "* http://httpbin.org/post 업로드 요청을 할 수 있는 url"
   ]
  },
  {
   "cell_type": "code",
   "execution_count": null,
   "id": "04da4790",
   "metadata": {},
   "outputs": [],
   "source": []
  },
  {
   "cell_type": "markdown",
   "id": "7ad65f12",
   "metadata": {},
   "source": [
    "### 번역 Open API 이용하기\n",
    "* urllib 를 사용한 예제"
   ]
  },
  {
   "cell_type": "code",
   "execution_count": 77,
   "id": "abbb0ebf",
   "metadata": {},
   "outputs": [
    {
     "name": "stdout",
     "output_type": "stream",
     "text": [
      "{\"message\":{\"result\":{\"srcLangType\":\"en\",\"tarLangType\":\"ko\",\"translatedText\":\"어제 나의 모든 고민은 너무 멀리 있는 것 같았다.\",\"engineType\":\"N2MT\",\"pivot\":null,\"dict\":null,\"tarDict\":null},\"@type\":\"response\",\"@service\":\"naverservice.nmt.proxy\",\"@version\":\"1.0.0\"}}\n"
     ]
    }
   ],
   "source": [
    "# ZAZjlfXS4P5FW5DtE0wg\n",
    "# RNbe1ikysg\n",
    "import os\n",
    "import sys\n",
    "import urllib.request\n",
    "\n",
    "client_id = \"ZAZjlfXS4P5FW5DtE0wg\" # 개발자센터에서 발급받은 Client ID 값\n",
    "client_secret = \"RNbe1ikysg\" # 개발자센터에서 발급받은 Client Secret 값\n",
    "encText = urllib.parse.quote(\"Yesterday all my troubles seemed so far away\")\n",
    "data = \"source=en&target=ko&text=\" + encText\n",
    "url = \"https://openapi.naver.com/v1/papago/n2mt\"\n",
    "\n",
    "request = urllib.request.Request(url)\n",
    "request.add_header(\"X-Naver-Client-Id\",client_id)\n",
    "request.add_header(\"X-Naver-Client-Secret\",client_secret)\n",
    "\n",
    "response = urllib.request.urlopen(request, data=data.encode(\"utf-8\"))\n",
    "rescode = response.getcode()\n",
    "if(rescode==200):\n",
    "    response_body = response.read()\n",
    "    print(response_body.decode('utf-8'))\n",
    "else:\n",
    "    print(\"Error Code:\" + rescode)\n"
   ]
  },
  {
   "cell_type": "markdown",
   "id": "b7d984a6",
   "metadata": {},
   "source": [
    "* requests를 사용한 코드로 변경하기\n",
    "* [requests docs](https://requests.readthedocs.io/en/latest/user/quickstart/)"
   ]
  },
  {
   "cell_type": "code",
   "execution_count": null,
   "id": "727b427b",
   "metadata": {},
   "outputs": [],
   "source": []
  }
 ],
 "metadata": {
  "kernelspec": {
   "display_name": "Python 3 (ipykernel)",
   "language": "python",
   "name": "python3"
  },
  "language_info": {
   "codemirror_mode": {
    "name": "ipython",
    "version": 3
   },
   "file_extension": ".py",
   "mimetype": "text/x-python",
   "name": "python",
   "nbconvert_exporter": "python",
   "pygments_lexer": "ipython3",
   "version": "3.10.9"
  }
 },
 "nbformat": 4,
 "nbformat_minor": 5
}
